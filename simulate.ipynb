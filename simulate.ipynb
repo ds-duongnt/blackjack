{
 "cells": [
  {
   "cell_type": "code",
   "execution_count": 1,
   "metadata": {},
   "outputs": [],
   "source": [
    "from bot import Bot\n",
    "from game_config import Config, Blackjack\n",
    "from shoe import Shoe\n",
    "from tqdm import tqdm_notebook as tqdm\n",
    "\n",
    "from collections import Counter\n",
    "import json\n",
    "import pickle"
   ]
  },
  {
   "cell_type": "code",
   "execution_count": 2,
   "metadata": {
    "code_folding": []
   },
   "outputs": [],
   "source": [
    "def simulate(n_loop: int = 1000, faceup_target: str = None, hand_target: list = None, \n",
    "            action_target: str = None): # n_player = 1\n",
    "    pbar = tqdm(total = n_loop)\n",
    "    \n",
    "    bet_amount = 1\n",
    "\n",
    "    config = Config() # Define your configuration game here. Check game_config.py for reference\n",
    "\n",
    "    blackjack = Blackjack(config = config, player = [Bot(bankroll = 1_000_000, name = 'Player 1')],\n",
    "                          shoe = Shoe(deck_quant = config.n_deck))\n",
    "    card_quant = len(blackjack.shoe.shoe) # Total cards in the shoe\n",
    "\n",
    "    loop = 0\n",
    "    while loop < n_loop:\n",
    "        if len(blackjack.shoe.shoe) < int(card_quant*blackjack.config.reset_shoe):\n",
    "            blackjack.shoe.shuffle(reset=True)\n",
    "            \n",
    "        game = blackjack.run()\n",
    "\n",
    "        dealer_hand = game.dealer\n",
    "        bot = game.players[0]\n",
    "\n",
    "        faceup_value = str(dealer_hand.get_faceup_card().get_score()[0])\n",
    "        bot_value = sorted([card.get_score()[0] for card in bot.hand], reverse=True)\n",
    "\n",
    "        if faceup_target:\n",
    "            if faceup_target != faceup_value:\n",
    "                continue\n",
    "                \n",
    "        if hand_target:\n",
    "            if sorted(hand_target, reverse=True) != bot_value:\n",
    "                continue\n",
    "\n",
    "        # Processing block\n",
    "        for bot_hand in [bot]: # Player-scanning Block\n",
    "            hand_process = [bot_hand]\n",
    "            hand_count = 0\n",
    "\n",
    "            while len(hand_process) != 0: # All-hands loop Block\n",
    "                hand_in_play = hand_process[0]\n",
    "                _count = 0\n",
    "\n",
    "                quest = game.question(hand_in_play, _count, insurance_offer = False)\n",
    "                if hand_count != 0:\n",
    "                    quest = 'Hand {} --- {}'.format(hand_count,quest)\n",
    "\n",
    "                while quest != None: # Response Block\n",
    "                    # Bot action\n",
    "                    if action_target and hand_count == 0 and _count == 0:\n",
    "                        action = action_target\n",
    "                        if action_target == 'split' and hand_in_play.split_check() == False:\n",
    "                            break\n",
    "                    else:\n",
    "                        action = hand_in_play.player.play(faceup_card = game.dealer.get_faceup_card(), hand = hand_in_play, question = quest)\n",
    "                    _count += 1\n",
    "\n",
    "                    if action == 'x2':\n",
    "                        hand_in_play.x2(blackjack.shoe)\n",
    "#                         print(hand_in_play.get_hand())\n",
    "                    elif action == 'hit':\n",
    "                        hand_in_play.hit(blackjack.shoe)\n",
    "#                         print(hand_in_play.get_hand())\n",
    "                    elif action == 'stand':\n",
    "                        hand_in_play.stand()\n",
    "                    elif action == 'split':\n",
    "                        hand_1, hand_2 = hand_in_play.split(blackjack.shoe)\n",
    "                        hand_process += [hand_1, hand_2]\n",
    "                        # hand_delete = True\n",
    "                        break\n",
    "\n",
    "                    quest = game.question(hand_in_play, _count)\n",
    "#                     if quest != None:\n",
    "# #                         print('Quest: {}'.format(quest))\n",
    "\n",
    "                hand_process.pop(0)\n",
    "\n",
    "                hand_count += 1\n",
    "        \n",
    "        game.dealer_action(blackjack.shoe) \n",
    "#         print('-----------------------------------------------')\n",
    "#         print(hand_print(dealer_hand, player=False))\n",
    "\n",
    "        for bot_hand in [bot]: # Player-scanning Score block\n",
    "#             print('Bot {} ------ Results: '.format(bot_hand.player.name))\n",
    "            hands = game.get_hands(player_name = bot_hand.player.name)\n",
    "            for hand in hands:\n",
    "#                 print(hand_print(hand))\n",
    "                game.process_result(hand, bet_amount, printout=False)\n",
    "\n",
    "        blackjack.log(game)\n",
    "\n",
    "        loop += 1\n",
    "        \n",
    "        pbar.update(1)\n",
    "\n",
    "    return blackjack.logs\n",
    "    "
   ]
  },
  {
   "cell_type": "code",
   "execution_count": 3,
   "metadata": {},
   "outputs": [],
   "source": [
    "# log = simulate(n_loop = 100, faceup_target = '1', hand_target = [4,5], action_target = 'hit')"
   ]
  },
  {
   "cell_type": "code",
   "execution_count": 3,
   "metadata": {},
   "outputs": [],
   "source": [
    "with open('data_raw_3','rb') as file:\n",
    "    data = pickle.load(file)"
   ]
  },
  {
   "cell_type": "code",
   "execution_count": 4,
   "metadata": {},
   "outputs": [],
   "source": [
    "last_target = max(data.keys())\n",
    "last_var1 = max(data[last_target].keys())\n",
    "last_var2 = max(data[last_target][last_var1].keys())\n",
    "last_act = list(data[last_target][last_var1][last_var2].keys())[-1]"
   ]
  },
  {
   "cell_type": "code",
   "execution_count": 5,
   "metadata": {},
   "outputs": [],
   "source": [
    "def next_loop(last_target: int, last_var1: int, last_var2: int, last_act: str):\n",
    "    \n",
    "    def next_act(act: str):\n",
    "        act_list = ['hit','stand','x2','split']\n",
    "        next_idx = act_list.index(act) + 1\n",
    "        next_idx = 0 if next_idx == len(act_list) else next_idx\n",
    "        return act_list[next_idx]\n",
    "    \n",
    "    n_act = next_act(last_act)\n",
    "\n",
    "    if n_act == 'hit':\n",
    "        if last_var2 == 10:\n",
    "            if last_var1 == 10:\n",
    "                n_var1 = n_var2 = 1\n",
    "                if last_target == 10:\n",
    "                    n_target, n_var1, n_var2, n_act = None\n",
    "                else:\n",
    "                    n_target = last_target + 1\n",
    "            else:\n",
    "                n_var2 = n_var1 = last_var1 + 1\n",
    "                n_target = last_target\n",
    "        else:\n",
    "            n_var2 = last_var2 + 1\n",
    "            n_target, n_var1 = last_target, last_var1\n",
    "    else:\n",
    "        n_target, n_var1, n_var2 = last_target, last_var1, last_var2\n",
    "        \n",
    "    return n_target, n_var1, n_var2, n_act\n",
    "                "
   ]
  },
  {
   "cell_type": "code",
   "execution_count": 6,
   "metadata": {},
   "outputs": [
    {
     "data": {
      "text/plain": [
       "(3, 1, 4, 'split')"
      ]
     },
     "execution_count": 6,
     "metadata": {},
     "output_type": "execute_result"
    }
   ],
   "source": [
    "next_loop(last_target, last_var1, last_var2, last_act)"
   ]
  },
  {
   "cell_type": "code",
   "execution_count": 7,
   "metadata": {},
   "outputs": [],
   "source": [
    "data = {}"
   ]
  },
  {
   "cell_type": "code",
   "execution_count": 8,
   "metadata": {},
   "outputs": [
    {
     "name": "stdout",
     "output_type": "stream",
     "text": [
      "Create Target 3\n",
      "Create Var1 1\n",
      "Create Var2 4\n"
     ]
    },
    {
     "name": "stderr",
     "output_type": "stream",
     "text": [
      "/Users/duongnt/anaconda3/lib/python3.7/site-packages/ipykernel_launcher.py:3: TqdmDeprecationWarning: This function will be removed in tqdm==5.0.0\n",
      "Please use `tqdm.notebook.tqdm` instead of `tqdm.tqdm_notebook`\n",
      "  This is separate from the ipykernel package so we can avoid doing imports until\n"
     ]
    },
    {
     "data": {
      "application/vnd.jupyter.widget-view+json": {
       "model_id": "f3366da2eb954cd29e61369c46e75632",
       "version_major": 2,
       "version_minor": 0
      },
      "text/plain": [
       "HBox(children=(FloatProgress(value=0.0, max=10000.0), HTML(value='')))"
      ]
     },
     "metadata": {},
     "output_type": "display_data"
    },
    {
     "name": "stdout",
     "output_type": "stream",
     "text": [
      "Create Var2 5\n"
     ]
    },
    {
     "data": {
      "application/vnd.jupyter.widget-view+json": {
       "model_id": "e842040e82164bb988d871a7451d9014",
       "version_major": 2,
       "version_minor": 0
      },
      "text/plain": [
       "HBox(children=(FloatProgress(value=0.0, max=10000.0), HTML(value='')))"
      ]
     },
     "metadata": {},
     "output_type": "display_data"
    },
    {
     "data": {
      "application/vnd.jupyter.widget-view+json": {
       "model_id": "49c31acf6af54a9ba698a48478673bd6",
       "version_major": 2,
       "version_minor": 0
      },
      "text/plain": [
       "HBox(children=(FloatProgress(value=0.0, max=10000.0), HTML(value='')))"
      ]
     },
     "metadata": {},
     "output_type": "display_data"
    },
    {
     "data": {
      "application/vnd.jupyter.widget-view+json": {
       "model_id": "841e11a5bfe5489894c7a8489f7a30b6",
       "version_major": 2,
       "version_minor": 0
      },
      "text/plain": [
       "HBox(children=(FloatProgress(value=0.0, max=10000.0), HTML(value='')))"
      ]
     },
     "metadata": {},
     "output_type": "display_data"
    },
    {
     "data": {
      "application/vnd.jupyter.widget-view+json": {
       "model_id": "65abc1321caa4a739ca316105979e704",
       "version_major": 2,
       "version_minor": 0
      },
      "text/plain": [
       "HBox(children=(FloatProgress(value=0.0, max=10000.0), HTML(value='')))"
      ]
     },
     "metadata": {},
     "output_type": "display_data"
    },
    {
     "name": "stdout",
     "output_type": "stream",
     "text": [
      "Create Var2 6\n"
     ]
    },
    {
     "data": {
      "application/vnd.jupyter.widget-view+json": {
       "model_id": "af4dc1ca218f490eb89e9b8d4e40569f",
       "version_major": 2,
       "version_minor": 0
      },
      "text/plain": [
       "HBox(children=(FloatProgress(value=0.0, max=10000.0), HTML(value='')))"
      ]
     },
     "metadata": {},
     "output_type": "display_data"
    },
    {
     "data": {
      "application/vnd.jupyter.widget-view+json": {
       "model_id": "0bf57f83308f41af8da9acc644959ceb",
       "version_major": 2,
       "version_minor": 0
      },
      "text/plain": [
       "HBox(children=(FloatProgress(value=0.0, max=10000.0), HTML(value='')))"
      ]
     },
     "metadata": {},
     "output_type": "display_data"
    },
    {
     "data": {
      "application/vnd.jupyter.widget-view+json": {
       "model_id": "69f3ef6d4293403ebe7a97f92c2850c4",
       "version_major": 2,
       "version_minor": 0
      },
      "text/plain": [
       "HBox(children=(FloatProgress(value=0.0, max=10000.0), HTML(value='')))"
      ]
     },
     "metadata": {},
     "output_type": "display_data"
    },
    {
     "data": {
      "application/vnd.jupyter.widget-view+json": {
       "model_id": "aa4a560d90d646659170f2c86408d49f",
       "version_major": 2,
       "version_minor": 0
      },
      "text/plain": [
       "HBox(children=(FloatProgress(value=0.0, max=10000.0), HTML(value='')))"
      ]
     },
     "metadata": {},
     "output_type": "display_data"
    },
    {
     "name": "stdout",
     "output_type": "stream",
     "text": [
      "Create Var2 7\n"
     ]
    },
    {
     "data": {
      "application/vnd.jupyter.widget-view+json": {
       "model_id": "c9b0776befc440a2932fcfa416a1fedc",
       "version_major": 2,
       "version_minor": 0
      },
      "text/plain": [
       "HBox(children=(FloatProgress(value=0.0, max=10000.0), HTML(value='')))"
      ]
     },
     "metadata": {},
     "output_type": "display_data"
    },
    {
     "data": {
      "application/vnd.jupyter.widget-view+json": {
       "model_id": "986896b489b74243a49c7d71c8d021d0",
       "version_major": 2,
       "version_minor": 0
      },
      "text/plain": [
       "HBox(children=(FloatProgress(value=0.0, max=10000.0), HTML(value='')))"
      ]
     },
     "metadata": {},
     "output_type": "display_data"
    },
    {
     "data": {
      "application/vnd.jupyter.widget-view+json": {
       "model_id": "aae90857d9fb4ae3a63e0b159b729de3",
       "version_major": 2,
       "version_minor": 0
      },
      "text/plain": [
       "HBox(children=(FloatProgress(value=0.0, max=10000.0), HTML(value='')))"
      ]
     },
     "metadata": {},
     "output_type": "display_data"
    },
    {
     "data": {
      "application/vnd.jupyter.widget-view+json": {
       "model_id": "687368c6a90d4671a0ed8fad620afe2a",
       "version_major": 2,
       "version_minor": 0
      },
      "text/plain": [
       "HBox(children=(FloatProgress(value=0.0, max=10000.0), HTML(value='')))"
      ]
     },
     "metadata": {},
     "output_type": "display_data"
    },
    {
     "name": "stdout",
     "output_type": "stream",
     "text": [
      "Create Var2 8\n"
     ]
    },
    {
     "data": {
      "application/vnd.jupyter.widget-view+json": {
       "model_id": "388b48758a3a46938f89b3ac09de9c3d",
       "version_major": 2,
       "version_minor": 0
      },
      "text/plain": [
       "HBox(children=(FloatProgress(value=0.0, max=10000.0), HTML(value='')))"
      ]
     },
     "metadata": {},
     "output_type": "display_data"
    },
    {
     "data": {
      "application/vnd.jupyter.widget-view+json": {
       "model_id": "6a7b16855c7148248ee571e6d63c6e2d",
       "version_major": 2,
       "version_minor": 0
      },
      "text/plain": [
       "HBox(children=(FloatProgress(value=0.0, max=10000.0), HTML(value='')))"
      ]
     },
     "metadata": {},
     "output_type": "display_data"
    },
    {
     "data": {
      "application/vnd.jupyter.widget-view+json": {
       "model_id": "3fbdd4a7106f4c80b472d526ed5a0b82",
       "version_major": 2,
       "version_minor": 0
      },
      "text/plain": [
       "HBox(children=(FloatProgress(value=0.0, max=10000.0), HTML(value='')))"
      ]
     },
     "metadata": {},
     "output_type": "display_data"
    },
    {
     "data": {
      "application/vnd.jupyter.widget-view+json": {
       "model_id": "5e12dac7697d458592da73504aa41ad8",
       "version_major": 2,
       "version_minor": 0
      },
      "text/plain": [
       "HBox(children=(FloatProgress(value=0.0, max=10000.0), HTML(value='')))"
      ]
     },
     "metadata": {},
     "output_type": "display_data"
    },
    {
     "name": "stdout",
     "output_type": "stream",
     "text": [
      "Create Var2 9\n"
     ]
    },
    {
     "data": {
      "application/vnd.jupyter.widget-view+json": {
       "model_id": "ce5160ea5bf14e7cb879450da32771d8",
       "version_major": 2,
       "version_minor": 0
      },
      "text/plain": [
       "HBox(children=(FloatProgress(value=0.0, max=10000.0), HTML(value='')))"
      ]
     },
     "metadata": {},
     "output_type": "display_data"
    },
    {
     "data": {
      "application/vnd.jupyter.widget-view+json": {
       "model_id": "ab67ed89aad748238de5bf0a205eb97d",
       "version_major": 2,
       "version_minor": 0
      },
      "text/plain": [
       "HBox(children=(FloatProgress(value=0.0, max=10000.0), HTML(value='')))"
      ]
     },
     "metadata": {},
     "output_type": "display_data"
    },
    {
     "data": {
      "application/vnd.jupyter.widget-view+json": {
       "model_id": "ede5f784bd0f4b1ba8a71cdc227ca130",
       "version_major": 2,
       "version_minor": 0
      },
      "text/plain": [
       "HBox(children=(FloatProgress(value=0.0, max=10000.0), HTML(value='')))"
      ]
     },
     "metadata": {},
     "output_type": "display_data"
    },
    {
     "data": {
      "application/vnd.jupyter.widget-view+json": {
       "model_id": "a7409dce9e5d461fb76942a8813bdd03",
       "version_major": 2,
       "version_minor": 0
      },
      "text/plain": [
       "HBox(children=(FloatProgress(value=0.0, max=10000.0), HTML(value='')))"
      ]
     },
     "metadata": {},
     "output_type": "display_data"
    },
    {
     "name": "stdout",
     "output_type": "stream",
     "text": [
      "Create Var2 10\n"
     ]
    },
    {
     "data": {
      "application/vnd.jupyter.widget-view+json": {
       "model_id": "324751f4b8a240699b1d9981ba6d96c6",
       "version_major": 2,
       "version_minor": 0
      },
      "text/plain": [
       "HBox(children=(FloatProgress(value=0.0, max=10000.0), HTML(value='')))"
      ]
     },
     "metadata": {},
     "output_type": "display_data"
    },
    {
     "data": {
      "application/vnd.jupyter.widget-view+json": {
       "model_id": "23f3ce2d3843463aaf7950b2069e66b9",
       "version_major": 2,
       "version_minor": 0
      },
      "text/plain": [
       "HBox(children=(FloatProgress(value=0.0, max=10000.0), HTML(value='')))"
      ]
     },
     "metadata": {},
     "output_type": "display_data"
    },
    {
     "data": {
      "application/vnd.jupyter.widget-view+json": {
       "model_id": "7eff7c3da7b84b92932cae294afbd9bd",
       "version_major": 2,
       "version_minor": 0
      },
      "text/plain": [
       "HBox(children=(FloatProgress(value=0.0, max=10000.0), HTML(value='')))"
      ]
     },
     "metadata": {},
     "output_type": "display_data"
    },
    {
     "data": {
      "application/vnd.jupyter.widget-view+json": {
       "model_id": "3e741a35224249788ef2cc930c6fc7d9",
       "version_major": 2,
       "version_minor": 0
      },
      "text/plain": [
       "HBox(children=(FloatProgress(value=0.0, max=10000.0), HTML(value='')))"
      ]
     },
     "metadata": {},
     "output_type": "display_data"
    },
    {
     "name": "stdout",
     "output_type": "stream",
     "text": [
      "Create Var1 2\n",
      "Create Var2 2\n"
     ]
    },
    {
     "data": {
      "application/vnd.jupyter.widget-view+json": {
       "model_id": "bf7a98aa631a41a3a5927b6e1ddf0907",
       "version_major": 2,
       "version_minor": 0
      },
      "text/plain": [
       "HBox(children=(FloatProgress(value=0.0, max=10000.0), HTML(value='')))"
      ]
     },
     "metadata": {},
     "output_type": "display_data"
    },
    {
     "data": {
      "application/vnd.jupyter.widget-view+json": {
       "model_id": "2bcea393e1104233b478d8f46cd5b957",
       "version_major": 2,
       "version_minor": 0
      },
      "text/plain": [
       "HBox(children=(FloatProgress(value=0.0, max=10000.0), HTML(value='')))"
      ]
     },
     "metadata": {},
     "output_type": "display_data"
    },
    {
     "data": {
      "application/vnd.jupyter.widget-view+json": {
       "model_id": "0db604df29134767b9fdd62b317d92a4",
       "version_major": 2,
       "version_minor": 0
      },
      "text/plain": [
       "HBox(children=(FloatProgress(value=0.0, max=10000.0), HTML(value='')))"
      ]
     },
     "metadata": {},
     "output_type": "display_data"
    },
    {
     "data": {
      "application/vnd.jupyter.widget-view+json": {
       "model_id": "6f86a6b5dcbc445f89e4d89cac661fb9",
       "version_major": 2,
       "version_minor": 0
      },
      "text/plain": [
       "HBox(children=(FloatProgress(value=0.0, max=10000.0), HTML(value='')))"
      ]
     },
     "metadata": {},
     "output_type": "display_data"
    },
    {
     "name": "stdout",
     "output_type": "stream",
     "text": [
      "Create Var2 3\n"
     ]
    },
    {
     "data": {
      "application/vnd.jupyter.widget-view+json": {
       "model_id": "a62543c7328c4e6e86e1591bea7e1749",
       "version_major": 2,
       "version_minor": 0
      },
      "text/plain": [
       "HBox(children=(FloatProgress(value=0.0, max=10000.0), HTML(value='')))"
      ]
     },
     "metadata": {},
     "output_type": "display_data"
    },
    {
     "data": {
      "application/vnd.jupyter.widget-view+json": {
       "model_id": "e3f0c5d9a21347c88e81af1254a8e621",
       "version_major": 2,
       "version_minor": 0
      },
      "text/plain": [
       "HBox(children=(FloatProgress(value=0.0, max=10000.0), HTML(value='')))"
      ]
     },
     "metadata": {},
     "output_type": "display_data"
    },
    {
     "data": {
      "application/vnd.jupyter.widget-view+json": {
       "model_id": "6e1b8deb652d4b57a2361e48fad890d6",
       "version_major": 2,
       "version_minor": 0
      },
      "text/plain": [
       "HBox(children=(FloatProgress(value=0.0, max=10000.0), HTML(value='')))"
      ]
     },
     "metadata": {},
     "output_type": "display_data"
    },
    {
     "data": {
      "application/vnd.jupyter.widget-view+json": {
       "model_id": "bcb48a6245604971ad0838489a536cf2",
       "version_major": 2,
       "version_minor": 0
      },
      "text/plain": [
       "HBox(children=(FloatProgress(value=0.0, max=10000.0), HTML(value='')))"
      ]
     },
     "metadata": {},
     "output_type": "display_data"
    },
    {
     "name": "stdout",
     "output_type": "stream",
     "text": [
      "Create Var2 4\n"
     ]
    },
    {
     "data": {
      "application/vnd.jupyter.widget-view+json": {
       "model_id": "3cd63ad9d3da4e2b88e9b80bfa445941",
       "version_major": 2,
       "version_minor": 0
      },
      "text/plain": [
       "HBox(children=(FloatProgress(value=0.0, max=10000.0), HTML(value='')))"
      ]
     },
     "metadata": {},
     "output_type": "display_data"
    },
    {
     "data": {
      "application/vnd.jupyter.widget-view+json": {
       "model_id": "26269a33ef004ccf9ab112fefbffc63a",
       "version_major": 2,
       "version_minor": 0
      },
      "text/plain": [
       "HBox(children=(FloatProgress(value=0.0, max=10000.0), HTML(value='')))"
      ]
     },
     "metadata": {},
     "output_type": "display_data"
    },
    {
     "data": {
      "application/vnd.jupyter.widget-view+json": {
       "model_id": "2936c89575d04b498a0677eb74e066a2",
       "version_major": 2,
       "version_minor": 0
      },
      "text/plain": [
       "HBox(children=(FloatProgress(value=0.0, max=10000.0), HTML(value='')))"
      ]
     },
     "metadata": {},
     "output_type": "display_data"
    },
    {
     "data": {
      "application/vnd.jupyter.widget-view+json": {
       "model_id": "c30b62f2eb814f6fbe1a2ac1988f05f6",
       "version_major": 2,
       "version_minor": 0
      },
      "text/plain": [
       "HBox(children=(FloatProgress(value=0.0, max=10000.0), HTML(value='')))"
      ]
     },
     "metadata": {},
     "output_type": "display_data"
    },
    {
     "name": "stdout",
     "output_type": "stream",
     "text": [
      "Create Var2 5\n"
     ]
    },
    {
     "data": {
      "application/vnd.jupyter.widget-view+json": {
       "model_id": "27d35642018a44c7a80c9259c4aefcaf",
       "version_major": 2,
       "version_minor": 0
      },
      "text/plain": [
       "HBox(children=(FloatProgress(value=0.0, max=10000.0), HTML(value='')))"
      ]
     },
     "metadata": {},
     "output_type": "display_data"
    },
    {
     "data": {
      "application/vnd.jupyter.widget-view+json": {
       "model_id": "52e32875dcb74aaaae171862faa753cf",
       "version_major": 2,
       "version_minor": 0
      },
      "text/plain": [
       "HBox(children=(FloatProgress(value=0.0, max=10000.0), HTML(value='')))"
      ]
     },
     "metadata": {},
     "output_type": "display_data"
    },
    {
     "data": {
      "application/vnd.jupyter.widget-view+json": {
       "model_id": "f68392e15b144557982c49ffa030dfe7",
       "version_major": 2,
       "version_minor": 0
      },
      "text/plain": [
       "HBox(children=(FloatProgress(value=0.0, max=10000.0), HTML(value='')))"
      ]
     },
     "metadata": {},
     "output_type": "display_data"
    },
    {
     "data": {
      "application/vnd.jupyter.widget-view+json": {
       "model_id": "2cb1be6fbe164301881b19f15ea72c8d",
       "version_major": 2,
       "version_minor": 0
      },
      "text/plain": [
       "HBox(children=(FloatProgress(value=0.0, max=10000.0), HTML(value='')))"
      ]
     },
     "metadata": {},
     "output_type": "display_data"
    },
    {
     "name": "stdout",
     "output_type": "stream",
     "text": [
      "Create Var2 6\n"
     ]
    },
    {
     "data": {
      "application/vnd.jupyter.widget-view+json": {
       "model_id": "23c8ebb79a7045c794a26fdcecc00309",
       "version_major": 2,
       "version_minor": 0
      },
      "text/plain": [
       "HBox(children=(FloatProgress(value=0.0, max=10000.0), HTML(value='')))"
      ]
     },
     "metadata": {},
     "output_type": "display_data"
    },
    {
     "data": {
      "application/vnd.jupyter.widget-view+json": {
       "model_id": "a525f78cff1348b9856c3f4dd7b50e7b",
       "version_major": 2,
       "version_minor": 0
      },
      "text/plain": [
       "HBox(children=(FloatProgress(value=0.0, max=10000.0), HTML(value='')))"
      ]
     },
     "metadata": {},
     "output_type": "display_data"
    },
    {
     "data": {
      "application/vnd.jupyter.widget-view+json": {
       "model_id": "c9f53a96b3654f938fc05875befb92b9",
       "version_major": 2,
       "version_minor": 0
      },
      "text/plain": [
       "HBox(children=(FloatProgress(value=0.0, max=10000.0), HTML(value='')))"
      ]
     },
     "metadata": {},
     "output_type": "display_data"
    },
    {
     "data": {
      "application/vnd.jupyter.widget-view+json": {
       "model_id": "afefb0611eb94c2e8dcd2aabcb076230",
       "version_major": 2,
       "version_minor": 0
      },
      "text/plain": [
       "HBox(children=(FloatProgress(value=0.0, max=10000.0), HTML(value='')))"
      ]
     },
     "metadata": {},
     "output_type": "display_data"
    },
    {
     "name": "stdout",
     "output_type": "stream",
     "text": [
      "Create Var2 7\n"
     ]
    },
    {
     "data": {
      "application/vnd.jupyter.widget-view+json": {
       "model_id": "820fdf92c1fe48f88fceb041debb60ca",
       "version_major": 2,
       "version_minor": 0
      },
      "text/plain": [
       "HBox(children=(FloatProgress(value=0.0, max=10000.0), HTML(value='')))"
      ]
     },
     "metadata": {},
     "output_type": "display_data"
    },
    {
     "data": {
      "application/vnd.jupyter.widget-view+json": {
       "model_id": "343c259ac9974bdd871d338e14447a61",
       "version_major": 2,
       "version_minor": 0
      },
      "text/plain": [
       "HBox(children=(FloatProgress(value=0.0, max=10000.0), HTML(value='')))"
      ]
     },
     "metadata": {},
     "output_type": "display_data"
    },
    {
     "data": {
      "application/vnd.jupyter.widget-view+json": {
       "model_id": "b0ee7c47222445fe9674e94f4d462c18",
       "version_major": 2,
       "version_minor": 0
      },
      "text/plain": [
       "HBox(children=(FloatProgress(value=0.0, max=10000.0), HTML(value='')))"
      ]
     },
     "metadata": {},
     "output_type": "display_data"
    },
    {
     "data": {
      "application/vnd.jupyter.widget-view+json": {
       "model_id": "df6d21d26e8b4569969e0fd50ba7e5b9",
       "version_major": 2,
       "version_minor": 0
      },
      "text/plain": [
       "HBox(children=(FloatProgress(value=0.0, max=10000.0), HTML(value='')))"
      ]
     },
     "metadata": {},
     "output_type": "display_data"
    },
    {
     "name": "stdout",
     "output_type": "stream",
     "text": [
      "Create Var2 8\n"
     ]
    },
    {
     "data": {
      "application/vnd.jupyter.widget-view+json": {
       "model_id": "a0e2a32fc377449daff1ddcad5e36212",
       "version_major": 2,
       "version_minor": 0
      },
      "text/plain": [
       "HBox(children=(FloatProgress(value=0.0, max=10000.0), HTML(value='')))"
      ]
     },
     "metadata": {},
     "output_type": "display_data"
    },
    {
     "data": {
      "application/vnd.jupyter.widget-view+json": {
       "model_id": "9772664808cb4c7f9f0a70449ea82a01",
       "version_major": 2,
       "version_minor": 0
      },
      "text/plain": [
       "HBox(children=(FloatProgress(value=0.0, max=10000.0), HTML(value='')))"
      ]
     },
     "metadata": {},
     "output_type": "display_data"
    },
    {
     "data": {
      "application/vnd.jupyter.widget-view+json": {
       "model_id": "c2b6d119881b4adfb5225c3e9ccf5aea",
       "version_major": 2,
       "version_minor": 0
      },
      "text/plain": [
       "HBox(children=(FloatProgress(value=0.0, max=10000.0), HTML(value='')))"
      ]
     },
     "metadata": {},
     "output_type": "display_data"
    },
    {
     "data": {
      "application/vnd.jupyter.widget-view+json": {
       "model_id": "b940570f387c4a00b2b1f1a85c496d72",
       "version_major": 2,
       "version_minor": 0
      },
      "text/plain": [
       "HBox(children=(FloatProgress(value=0.0, max=10000.0), HTML(value='')))"
      ]
     },
     "metadata": {},
     "output_type": "display_data"
    },
    {
     "name": "stdout",
     "output_type": "stream",
     "text": [
      "Create Var2 9\n"
     ]
    },
    {
     "data": {
      "application/vnd.jupyter.widget-view+json": {
       "model_id": "7d24eeecffc04e3881541220824f2a70",
       "version_major": 2,
       "version_minor": 0
      },
      "text/plain": [
       "HBox(children=(FloatProgress(value=0.0, max=10000.0), HTML(value='')))"
      ]
     },
     "metadata": {},
     "output_type": "display_data"
    },
    {
     "data": {
      "application/vnd.jupyter.widget-view+json": {
       "model_id": "f05ecd8ed913481e83f116c9f03cd281",
       "version_major": 2,
       "version_minor": 0
      },
      "text/plain": [
       "HBox(children=(FloatProgress(value=0.0, max=10000.0), HTML(value='')))"
      ]
     },
     "metadata": {},
     "output_type": "display_data"
    },
    {
     "data": {
      "application/vnd.jupyter.widget-view+json": {
       "model_id": "b521453374504b7d871a756502892648",
       "version_major": 2,
       "version_minor": 0
      },
      "text/plain": [
       "HBox(children=(FloatProgress(value=0.0, max=10000.0), HTML(value='')))"
      ]
     },
     "metadata": {},
     "output_type": "display_data"
    },
    {
     "data": {
      "application/vnd.jupyter.widget-view+json": {
       "model_id": "d1fb8c9571ba4a7db8a4f74f6d448bbf",
       "version_major": 2,
       "version_minor": 0
      },
      "text/plain": [
       "HBox(children=(FloatProgress(value=0.0, max=10000.0), HTML(value='')))"
      ]
     },
     "metadata": {},
     "output_type": "display_data"
    },
    {
     "name": "stdout",
     "output_type": "stream",
     "text": [
      "Create Var2 10\n"
     ]
    },
    {
     "data": {
      "application/vnd.jupyter.widget-view+json": {
       "model_id": "9946d7c5ef5a496c8d6aa53e65906b7f",
       "version_major": 2,
       "version_minor": 0
      },
      "text/plain": [
       "HBox(children=(FloatProgress(value=0.0, max=10000.0), HTML(value='')))"
      ]
     },
     "metadata": {},
     "output_type": "display_data"
    },
    {
     "data": {
      "application/vnd.jupyter.widget-view+json": {
       "model_id": "8380a4fe51e94ea18625794e8d795590",
       "version_major": 2,
       "version_minor": 0
      },
      "text/plain": [
       "HBox(children=(FloatProgress(value=0.0, max=10000.0), HTML(value='')))"
      ]
     },
     "metadata": {},
     "output_type": "display_data"
    },
    {
     "data": {
      "application/vnd.jupyter.widget-view+json": {
       "model_id": "2a33fdd8bec04699b616576db7231264",
       "version_major": 2,
       "version_minor": 0
      },
      "text/plain": [
       "HBox(children=(FloatProgress(value=0.0, max=10000.0), HTML(value='')))"
      ]
     },
     "metadata": {},
     "output_type": "display_data"
    },
    {
     "data": {
      "application/vnd.jupyter.widget-view+json": {
       "model_id": "12b1a6a9009a4822963d232daf210975",
       "version_major": 2,
       "version_minor": 0
      },
      "text/plain": [
       "HBox(children=(FloatProgress(value=0.0, max=10000.0), HTML(value='')))"
      ]
     },
     "metadata": {},
     "output_type": "display_data"
    },
    {
     "name": "stdout",
     "output_type": "stream",
     "text": [
      "Create Var1 3\n",
      "Create Var2 3\n"
     ]
    },
    {
     "data": {
      "application/vnd.jupyter.widget-view+json": {
       "model_id": "79b7f9ef1774410c9b286b3ded17f547",
       "version_major": 2,
       "version_minor": 0
      },
      "text/plain": [
       "HBox(children=(FloatProgress(value=0.0, max=10000.0), HTML(value='')))"
      ]
     },
     "metadata": {},
     "output_type": "display_data"
    },
    {
     "data": {
      "application/vnd.jupyter.widget-view+json": {
       "model_id": "e7bdd4cd5d2e44b897f446d762679075",
       "version_major": 2,
       "version_minor": 0
      },
      "text/plain": [
       "HBox(children=(FloatProgress(value=0.0, max=10000.0), HTML(value='')))"
      ]
     },
     "metadata": {},
     "output_type": "display_data"
    },
    {
     "data": {
      "application/vnd.jupyter.widget-view+json": {
       "model_id": "458765d9fcd94d11bcccc7f48a51e36a",
       "version_major": 2,
       "version_minor": 0
      },
      "text/plain": [
       "HBox(children=(FloatProgress(value=0.0, max=10000.0), HTML(value='')))"
      ]
     },
     "metadata": {},
     "output_type": "display_data"
    },
    {
     "data": {
      "application/vnd.jupyter.widget-view+json": {
       "model_id": "8ce8ffa917fb438f8223920e7b759591",
       "version_major": 2,
       "version_minor": 0
      },
      "text/plain": [
       "HBox(children=(FloatProgress(value=0.0, max=10000.0), HTML(value='')))"
      ]
     },
     "metadata": {},
     "output_type": "display_data"
    },
    {
     "name": "stdout",
     "output_type": "stream",
     "text": [
      "Create Var2 4\n"
     ]
    },
    {
     "data": {
      "application/vnd.jupyter.widget-view+json": {
       "model_id": "2df13bbb747044d3a4cb67737a39b66a",
       "version_major": 2,
       "version_minor": 0
      },
      "text/plain": [
       "HBox(children=(FloatProgress(value=0.0, max=10000.0), HTML(value='')))"
      ]
     },
     "metadata": {},
     "output_type": "display_data"
    },
    {
     "data": {
      "application/vnd.jupyter.widget-view+json": {
       "model_id": "b7f123a23fd642e285cb3662ff3c4c0e",
       "version_major": 2,
       "version_minor": 0
      },
      "text/plain": [
       "HBox(children=(FloatProgress(value=0.0, max=10000.0), HTML(value='')))"
      ]
     },
     "metadata": {},
     "output_type": "display_data"
    },
    {
     "data": {
      "application/vnd.jupyter.widget-view+json": {
       "model_id": "42cecf30f38e4cb8b0de81611af9bdb2",
       "version_major": 2,
       "version_minor": 0
      },
      "text/plain": [
       "HBox(children=(FloatProgress(value=0.0, max=10000.0), HTML(value='')))"
      ]
     },
     "metadata": {},
     "output_type": "display_data"
    },
    {
     "data": {
      "application/vnd.jupyter.widget-view+json": {
       "model_id": "b4109623dffe483699bf1d73885c6c9a",
       "version_major": 2,
       "version_minor": 0
      },
      "text/plain": [
       "HBox(children=(FloatProgress(value=0.0, max=10000.0), HTML(value='')))"
      ]
     },
     "metadata": {},
     "output_type": "display_data"
    },
    {
     "name": "stdout",
     "output_type": "stream",
     "text": [
      "Create Var2 5\n"
     ]
    },
    {
     "data": {
      "application/vnd.jupyter.widget-view+json": {
       "model_id": "51817e23522c4af7932f21d9fe7273e2",
       "version_major": 2,
       "version_minor": 0
      },
      "text/plain": [
       "HBox(children=(FloatProgress(value=0.0, max=10000.0), HTML(value='')))"
      ]
     },
     "metadata": {},
     "output_type": "display_data"
    },
    {
     "data": {
      "application/vnd.jupyter.widget-view+json": {
       "model_id": "0865ea0dc7bf46969e3af2e7450bbe65",
       "version_major": 2,
       "version_minor": 0
      },
      "text/plain": [
       "HBox(children=(FloatProgress(value=0.0, max=10000.0), HTML(value='')))"
      ]
     },
     "metadata": {},
     "output_type": "display_data"
    },
    {
     "data": {
      "application/vnd.jupyter.widget-view+json": {
       "model_id": "914c14c1452a450394f313a116868b20",
       "version_major": 2,
       "version_minor": 0
      },
      "text/plain": [
       "HBox(children=(FloatProgress(value=0.0, max=10000.0), HTML(value='')))"
      ]
     },
     "metadata": {},
     "output_type": "display_data"
    },
    {
     "data": {
      "application/vnd.jupyter.widget-view+json": {
       "model_id": "be49fcd8162f44039471ffbd4541417d",
       "version_major": 2,
       "version_minor": 0
      },
      "text/plain": [
       "HBox(children=(FloatProgress(value=0.0, max=10000.0), HTML(value='')))"
      ]
     },
     "metadata": {},
     "output_type": "display_data"
    },
    {
     "name": "stdout",
     "output_type": "stream",
     "text": [
      "Create Var2 6\n"
     ]
    },
    {
     "data": {
      "application/vnd.jupyter.widget-view+json": {
       "model_id": "33f911f4c84c4c089b07fba11e0a178f",
       "version_major": 2,
       "version_minor": 0
      },
      "text/plain": [
       "HBox(children=(FloatProgress(value=0.0, max=10000.0), HTML(value='')))"
      ]
     },
     "metadata": {},
     "output_type": "display_data"
    },
    {
     "data": {
      "application/vnd.jupyter.widget-view+json": {
       "model_id": "89149869616f4ca29ace1d50e46383c8",
       "version_major": 2,
       "version_minor": 0
      },
      "text/plain": [
       "HBox(children=(FloatProgress(value=0.0, max=10000.0), HTML(value='')))"
      ]
     },
     "metadata": {},
     "output_type": "display_data"
    },
    {
     "data": {
      "application/vnd.jupyter.widget-view+json": {
       "model_id": "82a61ea73e52496690595a9f1c478aa7",
       "version_major": 2,
       "version_minor": 0
      },
      "text/plain": [
       "HBox(children=(FloatProgress(value=0.0, max=10000.0), HTML(value='')))"
      ]
     },
     "metadata": {},
     "output_type": "display_data"
    },
    {
     "data": {
      "application/vnd.jupyter.widget-view+json": {
       "model_id": "961725cb31c04df295584a71d312f262",
       "version_major": 2,
       "version_minor": 0
      },
      "text/plain": [
       "HBox(children=(FloatProgress(value=0.0, max=10000.0), HTML(value='')))"
      ]
     },
     "metadata": {},
     "output_type": "display_data"
    },
    {
     "name": "stdout",
     "output_type": "stream",
     "text": [
      "Create Var2 7\n"
     ]
    },
    {
     "data": {
      "application/vnd.jupyter.widget-view+json": {
       "model_id": "c3067310203f4d628b5ced86f6d2e205",
       "version_major": 2,
       "version_minor": 0
      },
      "text/plain": [
       "HBox(children=(FloatProgress(value=0.0, max=10000.0), HTML(value='')))"
      ]
     },
     "metadata": {},
     "output_type": "display_data"
    },
    {
     "data": {
      "application/vnd.jupyter.widget-view+json": {
       "model_id": "62d9f34bd4714b12ab92b36a96a10db4",
       "version_major": 2,
       "version_minor": 0
      },
      "text/plain": [
       "HBox(children=(FloatProgress(value=0.0, max=10000.0), HTML(value='')))"
      ]
     },
     "metadata": {},
     "output_type": "display_data"
    },
    {
     "data": {
      "application/vnd.jupyter.widget-view+json": {
       "model_id": "1f66af590a7a4194bb9d9f90d905f270",
       "version_major": 2,
       "version_minor": 0
      },
      "text/plain": [
       "HBox(children=(FloatProgress(value=0.0, max=10000.0), HTML(value='')))"
      ]
     },
     "metadata": {},
     "output_type": "display_data"
    },
    {
     "data": {
      "application/vnd.jupyter.widget-view+json": {
       "model_id": "0e0791a7276d444299d4309195fe0462",
       "version_major": 2,
       "version_minor": 0
      },
      "text/plain": [
       "HBox(children=(FloatProgress(value=0.0, max=10000.0), HTML(value='')))"
      ]
     },
     "metadata": {},
     "output_type": "display_data"
    },
    {
     "name": "stdout",
     "output_type": "stream",
     "text": [
      "Create Var2 8\n"
     ]
    },
    {
     "data": {
      "application/vnd.jupyter.widget-view+json": {
       "model_id": "54215488290f4c989c67e43aa30b9511",
       "version_major": 2,
       "version_minor": 0
      },
      "text/plain": [
       "HBox(children=(FloatProgress(value=0.0, max=10000.0), HTML(value='')))"
      ]
     },
     "metadata": {},
     "output_type": "display_data"
    },
    {
     "data": {
      "application/vnd.jupyter.widget-view+json": {
       "model_id": "557e0f28290648749d50f06db6c6bae5",
       "version_major": 2,
       "version_minor": 0
      },
      "text/plain": [
       "HBox(children=(FloatProgress(value=0.0, max=10000.0), HTML(value='')))"
      ]
     },
     "metadata": {},
     "output_type": "display_data"
    },
    {
     "data": {
      "application/vnd.jupyter.widget-view+json": {
       "model_id": "db74654a638a44d68ca252ca33a06812",
       "version_major": 2,
       "version_minor": 0
      },
      "text/plain": [
       "HBox(children=(FloatProgress(value=0.0, max=10000.0), HTML(value='')))"
      ]
     },
     "metadata": {},
     "output_type": "display_data"
    },
    {
     "data": {
      "application/vnd.jupyter.widget-view+json": {
       "model_id": "57cca1c820d442e09f97a275cc62c74e",
       "version_major": 2,
       "version_minor": 0
      },
      "text/plain": [
       "HBox(children=(FloatProgress(value=0.0, max=10000.0), HTML(value='')))"
      ]
     },
     "metadata": {},
     "output_type": "display_data"
    },
    {
     "name": "stdout",
     "output_type": "stream",
     "text": [
      "Create Var2 9\n"
     ]
    },
    {
     "data": {
      "application/vnd.jupyter.widget-view+json": {
       "model_id": "85427daf365448e3ac64df92ed8bd418",
       "version_major": 2,
       "version_minor": 0
      },
      "text/plain": [
       "HBox(children=(FloatProgress(value=0.0, max=10000.0), HTML(value='')))"
      ]
     },
     "metadata": {},
     "output_type": "display_data"
    },
    {
     "data": {
      "application/vnd.jupyter.widget-view+json": {
       "model_id": "9aeee626918f40aaba985668b039fb9d",
       "version_major": 2,
       "version_minor": 0
      },
      "text/plain": [
       "HBox(children=(FloatProgress(value=0.0, max=10000.0), HTML(value='')))"
      ]
     },
     "metadata": {},
     "output_type": "display_data"
    },
    {
     "data": {
      "application/vnd.jupyter.widget-view+json": {
       "model_id": "1481e87311c74eb6b6360ba7152c2911",
       "version_major": 2,
       "version_minor": 0
      },
      "text/plain": [
       "HBox(children=(FloatProgress(value=0.0, max=10000.0), HTML(value='')))"
      ]
     },
     "metadata": {},
     "output_type": "display_data"
    },
    {
     "data": {
      "application/vnd.jupyter.widget-view+json": {
       "model_id": "19e0d70452fd4aa79efdf881edcd0d2d",
       "version_major": 2,
       "version_minor": 0
      },
      "text/plain": [
       "HBox(children=(FloatProgress(value=0.0, max=10000.0), HTML(value='')))"
      ]
     },
     "metadata": {},
     "output_type": "display_data"
    },
    {
     "name": "stdout",
     "output_type": "stream",
     "text": [
      "Create Var2 10\n"
     ]
    },
    {
     "data": {
      "application/vnd.jupyter.widget-view+json": {
       "model_id": "16a8aa5138b84c3aa8000d48eefa9f95",
       "version_major": 2,
       "version_minor": 0
      },
      "text/plain": [
       "HBox(children=(FloatProgress(value=0.0, max=10000.0), HTML(value='')))"
      ]
     },
     "metadata": {},
     "output_type": "display_data"
    },
    {
     "data": {
      "application/vnd.jupyter.widget-view+json": {
       "model_id": "27ec0809e5db48318fc26378b6fe9ad4",
       "version_major": 2,
       "version_minor": 0
      },
      "text/plain": [
       "HBox(children=(FloatProgress(value=0.0, max=10000.0), HTML(value='')))"
      ]
     },
     "metadata": {},
     "output_type": "display_data"
    },
    {
     "data": {
      "application/vnd.jupyter.widget-view+json": {
       "model_id": "c271a385ac17489e851fe8b686e156aa",
       "version_major": 2,
       "version_minor": 0
      },
      "text/plain": [
       "HBox(children=(FloatProgress(value=0.0, max=10000.0), HTML(value='')))"
      ]
     },
     "metadata": {},
     "output_type": "display_data"
    },
    {
     "data": {
      "application/vnd.jupyter.widget-view+json": {
       "model_id": "f2daa11e15fa48ce8f6633c13893e7de",
       "version_major": 2,
       "version_minor": 0
      },
      "text/plain": [
       "HBox(children=(FloatProgress(value=0.0, max=10000.0), HTML(value='')))"
      ]
     },
     "metadata": {},
     "output_type": "display_data"
    },
    {
     "name": "stdout",
     "output_type": "stream",
     "text": [
      "Create Var1 4\n",
      "Create Var2 4\n"
     ]
    },
    {
     "data": {
      "application/vnd.jupyter.widget-view+json": {
       "model_id": "612330e4c7df4a3c9e0efaa13c95359d",
       "version_major": 2,
       "version_minor": 0
      },
      "text/plain": [
       "HBox(children=(FloatProgress(value=0.0, max=10000.0), HTML(value='')))"
      ]
     },
     "metadata": {},
     "output_type": "display_data"
    },
    {
     "data": {
      "application/vnd.jupyter.widget-view+json": {
       "model_id": "e7fbc284af01488da25404cba6876476",
       "version_major": 2,
       "version_minor": 0
      },
      "text/plain": [
       "HBox(children=(FloatProgress(value=0.0, max=10000.0), HTML(value='')))"
      ]
     },
     "metadata": {},
     "output_type": "display_data"
    },
    {
     "data": {
      "application/vnd.jupyter.widget-view+json": {
       "model_id": "b7ac7a3facf14453b6a851faacfe648f",
       "version_major": 2,
       "version_minor": 0
      },
      "text/plain": [
       "HBox(children=(FloatProgress(value=0.0, max=10000.0), HTML(value='')))"
      ]
     },
     "metadata": {},
     "output_type": "display_data"
    },
    {
     "data": {
      "application/vnd.jupyter.widget-view+json": {
       "model_id": "deb159b656df44ebb409d4a467064990",
       "version_major": 2,
       "version_minor": 0
      },
      "text/plain": [
       "HBox(children=(FloatProgress(value=0.0, max=10000.0), HTML(value='')))"
      ]
     },
     "metadata": {},
     "output_type": "display_data"
    },
    {
     "name": "stdout",
     "output_type": "stream",
     "text": [
      "Create Var2 5\n"
     ]
    },
    {
     "data": {
      "application/vnd.jupyter.widget-view+json": {
       "model_id": "fe3a5ede8c38443ea4eabc1f836bfd12",
       "version_major": 2,
       "version_minor": 0
      },
      "text/plain": [
       "HBox(children=(FloatProgress(value=0.0, max=10000.0), HTML(value='')))"
      ]
     },
     "metadata": {},
     "output_type": "display_data"
    },
    {
     "data": {
      "application/vnd.jupyter.widget-view+json": {
       "model_id": "fa13d3eb5afa4a20b681e8e73f473b60",
       "version_major": 2,
       "version_minor": 0
      },
      "text/plain": [
       "HBox(children=(FloatProgress(value=0.0, max=10000.0), HTML(value='')))"
      ]
     },
     "metadata": {},
     "output_type": "display_data"
    },
    {
     "data": {
      "application/vnd.jupyter.widget-view+json": {
       "model_id": "a03011dbdff44120a0f03654ca36bd7f",
       "version_major": 2,
       "version_minor": 0
      },
      "text/plain": [
       "HBox(children=(FloatProgress(value=0.0, max=10000.0), HTML(value='')))"
      ]
     },
     "metadata": {},
     "output_type": "display_data"
    },
    {
     "data": {
      "application/vnd.jupyter.widget-view+json": {
       "model_id": "17680573ccdc45ea97838b45fe2b72bd",
       "version_major": 2,
       "version_minor": 0
      },
      "text/plain": [
       "HBox(children=(FloatProgress(value=0.0, max=10000.0), HTML(value='')))"
      ]
     },
     "metadata": {},
     "output_type": "display_data"
    },
    {
     "name": "stdout",
     "output_type": "stream",
     "text": [
      "Create Var2 6\n"
     ]
    },
    {
     "data": {
      "application/vnd.jupyter.widget-view+json": {
       "model_id": "8e341881b6ba47b795ee5f206ad175e4",
       "version_major": 2,
       "version_minor": 0
      },
      "text/plain": [
       "HBox(children=(FloatProgress(value=0.0, max=10000.0), HTML(value='')))"
      ]
     },
     "metadata": {},
     "output_type": "display_data"
    },
    {
     "data": {
      "application/vnd.jupyter.widget-view+json": {
       "model_id": "8d6e733097654ad5bed642cd36ec1971",
       "version_major": 2,
       "version_minor": 0
      },
      "text/plain": [
       "HBox(children=(FloatProgress(value=0.0, max=10000.0), HTML(value='')))"
      ]
     },
     "metadata": {},
     "output_type": "display_data"
    },
    {
     "data": {
      "application/vnd.jupyter.widget-view+json": {
       "model_id": "51dd8f723b7140b592c582a0a20ae27a",
       "version_major": 2,
       "version_minor": 0
      },
      "text/plain": [
       "HBox(children=(FloatProgress(value=0.0, max=10000.0), HTML(value='')))"
      ]
     },
     "metadata": {},
     "output_type": "display_data"
    },
    {
     "data": {
      "application/vnd.jupyter.widget-view+json": {
       "model_id": "00ebd60be9794864b6f23f8b0ddf1f1d",
       "version_major": 2,
       "version_minor": 0
      },
      "text/plain": [
       "HBox(children=(FloatProgress(value=0.0, max=10000.0), HTML(value='')))"
      ]
     },
     "metadata": {},
     "output_type": "display_data"
    },
    {
     "name": "stdout",
     "output_type": "stream",
     "text": [
      "Create Var2 7\n"
     ]
    },
    {
     "data": {
      "application/vnd.jupyter.widget-view+json": {
       "model_id": "076b402166a948e6b2e348a28a6c996e",
       "version_major": 2,
       "version_minor": 0
      },
      "text/plain": [
       "HBox(children=(FloatProgress(value=0.0, max=10000.0), HTML(value='')))"
      ]
     },
     "metadata": {},
     "output_type": "display_data"
    },
    {
     "data": {
      "application/vnd.jupyter.widget-view+json": {
       "model_id": "7582a4643d274e8f938121504f10e827",
       "version_major": 2,
       "version_minor": 0
      },
      "text/plain": [
       "HBox(children=(FloatProgress(value=0.0, max=10000.0), HTML(value='')))"
      ]
     },
     "metadata": {},
     "output_type": "display_data"
    },
    {
     "data": {
      "application/vnd.jupyter.widget-view+json": {
       "model_id": "1ac79227996b4a5a84f57ecf89544424",
       "version_major": 2,
       "version_minor": 0
      },
      "text/plain": [
       "HBox(children=(FloatProgress(value=0.0, max=10000.0), HTML(value='')))"
      ]
     },
     "metadata": {},
     "output_type": "display_data"
    },
    {
     "data": {
      "application/vnd.jupyter.widget-view+json": {
       "model_id": "dfa721df6bb943c985edc4312d2e010a",
       "version_major": 2,
       "version_minor": 0
      },
      "text/plain": [
       "HBox(children=(FloatProgress(value=0.0, max=10000.0), HTML(value='')))"
      ]
     },
     "metadata": {},
     "output_type": "display_data"
    },
    {
     "name": "stdout",
     "output_type": "stream",
     "text": [
      "Create Var2 8\n"
     ]
    },
    {
     "data": {
      "application/vnd.jupyter.widget-view+json": {
       "model_id": "3bf496b213b54aac9fddf2bb1377313c",
       "version_major": 2,
       "version_minor": 0
      },
      "text/plain": [
       "HBox(children=(FloatProgress(value=0.0, max=10000.0), HTML(value='')))"
      ]
     },
     "metadata": {},
     "output_type": "display_data"
    },
    {
     "data": {
      "application/vnd.jupyter.widget-view+json": {
       "model_id": "5bb9452ad12146b2877c590746fb2b99",
       "version_major": 2,
       "version_minor": 0
      },
      "text/plain": [
       "HBox(children=(FloatProgress(value=0.0, max=10000.0), HTML(value='')))"
      ]
     },
     "metadata": {},
     "output_type": "display_data"
    },
    {
     "data": {
      "application/vnd.jupyter.widget-view+json": {
       "model_id": "c69960a31b174a5abb86e36e534ef51c",
       "version_major": 2,
       "version_minor": 0
      },
      "text/plain": [
       "HBox(children=(FloatProgress(value=0.0, max=10000.0), HTML(value='')))"
      ]
     },
     "metadata": {},
     "output_type": "display_data"
    },
    {
     "data": {
      "application/vnd.jupyter.widget-view+json": {
       "model_id": "a5699c0c5cf043c48962bdff820cf52e",
       "version_major": 2,
       "version_minor": 0
      },
      "text/plain": [
       "HBox(children=(FloatProgress(value=0.0, max=10000.0), HTML(value='')))"
      ]
     },
     "metadata": {},
     "output_type": "display_data"
    },
    {
     "name": "stdout",
     "output_type": "stream",
     "text": [
      "Create Var2 9\n"
     ]
    },
    {
     "data": {
      "application/vnd.jupyter.widget-view+json": {
       "model_id": "f8cbce091bac4cfdb100aac196e853fc",
       "version_major": 2,
       "version_minor": 0
      },
      "text/plain": [
       "HBox(children=(FloatProgress(value=0.0, max=10000.0), HTML(value='')))"
      ]
     },
     "metadata": {},
     "output_type": "display_data"
    },
    {
     "data": {
      "application/vnd.jupyter.widget-view+json": {
       "model_id": "9ac3a9ea62634258b92ab3b28cdffae5",
       "version_major": 2,
       "version_minor": 0
      },
      "text/plain": [
       "HBox(children=(FloatProgress(value=0.0, max=10000.0), HTML(value='')))"
      ]
     },
     "metadata": {},
     "output_type": "display_data"
    },
    {
     "data": {
      "application/vnd.jupyter.widget-view+json": {
       "model_id": "1c47f6f735634aa3a6ba2b141319464e",
       "version_major": 2,
       "version_minor": 0
      },
      "text/plain": [
       "HBox(children=(FloatProgress(value=0.0, max=10000.0), HTML(value='')))"
      ]
     },
     "metadata": {},
     "output_type": "display_data"
    },
    {
     "data": {
      "application/vnd.jupyter.widget-view+json": {
       "model_id": "7bf3d16297234c9d8d9f1b5e79d9411d",
       "version_major": 2,
       "version_minor": 0
      },
      "text/plain": [
       "HBox(children=(FloatProgress(value=0.0, max=10000.0), HTML(value='')))"
      ]
     },
     "metadata": {},
     "output_type": "display_data"
    },
    {
     "name": "stdout",
     "output_type": "stream",
     "text": [
      "Create Var2 10\n"
     ]
    },
    {
     "data": {
      "application/vnd.jupyter.widget-view+json": {
       "model_id": "9c8b46f6bd214c8f940cec95b687a97c",
       "version_major": 2,
       "version_minor": 0
      },
      "text/plain": [
       "HBox(children=(FloatProgress(value=0.0, max=10000.0), HTML(value='')))"
      ]
     },
     "metadata": {},
     "output_type": "display_data"
    },
    {
     "data": {
      "application/vnd.jupyter.widget-view+json": {
       "model_id": "b9a12236e30d4371945f3c2600bf1dca",
       "version_major": 2,
       "version_minor": 0
      },
      "text/plain": [
       "HBox(children=(FloatProgress(value=0.0, max=10000.0), HTML(value='')))"
      ]
     },
     "metadata": {},
     "output_type": "display_data"
    },
    {
     "data": {
      "application/vnd.jupyter.widget-view+json": {
       "model_id": "8b35abe342694ad7916a90fa07ba0519",
       "version_major": 2,
       "version_minor": 0
      },
      "text/plain": [
       "HBox(children=(FloatProgress(value=0.0, max=10000.0), HTML(value='')))"
      ]
     },
     "metadata": {},
     "output_type": "display_data"
    },
    {
     "data": {
      "application/vnd.jupyter.widget-view+json": {
       "model_id": "1027922eec5d4618ad09ce87f777da7d",
       "version_major": 2,
       "version_minor": 0
      },
      "text/plain": [
       "HBox(children=(FloatProgress(value=0.0, max=10000.0), HTML(value='')))"
      ]
     },
     "metadata": {},
     "output_type": "display_data"
    },
    {
     "name": "stdout",
     "output_type": "stream",
     "text": [
      "Create Var1 5\n",
      "Create Var2 5\n"
     ]
    },
    {
     "data": {
      "application/vnd.jupyter.widget-view+json": {
       "model_id": "ae8907048f3e4861b7d3e743c6b25163",
       "version_major": 2,
       "version_minor": 0
      },
      "text/plain": [
       "HBox(children=(FloatProgress(value=0.0, max=10000.0), HTML(value='')))"
      ]
     },
     "metadata": {},
     "output_type": "display_data"
    },
    {
     "data": {
      "application/vnd.jupyter.widget-view+json": {
       "model_id": "604c54f48ed542c782535a2c57fa46c9",
       "version_major": 2,
       "version_minor": 0
      },
      "text/plain": [
       "HBox(children=(FloatProgress(value=0.0, max=10000.0), HTML(value='')))"
      ]
     },
     "metadata": {},
     "output_type": "display_data"
    },
    {
     "data": {
      "application/vnd.jupyter.widget-view+json": {
       "model_id": "ffe69a33c4ea423ab4365c137c902695",
       "version_major": 2,
       "version_minor": 0
      },
      "text/plain": [
       "HBox(children=(FloatProgress(value=0.0, max=10000.0), HTML(value='')))"
      ]
     },
     "metadata": {},
     "output_type": "display_data"
    },
    {
     "data": {
      "application/vnd.jupyter.widget-view+json": {
       "model_id": "e7cab21de2674fec80a874e13f8925fa",
       "version_major": 2,
       "version_minor": 0
      },
      "text/plain": [
       "HBox(children=(FloatProgress(value=0.0, max=10000.0), HTML(value='')))"
      ]
     },
     "metadata": {},
     "output_type": "display_data"
    },
    {
     "name": "stdout",
     "output_type": "stream",
     "text": [
      "Create Var2 6\n"
     ]
    },
    {
     "data": {
      "application/vnd.jupyter.widget-view+json": {
       "model_id": "5aa34dccbdbc449983c6b6cefaf52ccf",
       "version_major": 2,
       "version_minor": 0
      },
      "text/plain": [
       "HBox(children=(FloatProgress(value=0.0, max=10000.0), HTML(value='')))"
      ]
     },
     "metadata": {},
     "output_type": "display_data"
    },
    {
     "data": {
      "application/vnd.jupyter.widget-view+json": {
       "model_id": "7773467f8ead4fe0bc6ffb9f1be6bea7",
       "version_major": 2,
       "version_minor": 0
      },
      "text/plain": [
       "HBox(children=(FloatProgress(value=0.0, max=10000.0), HTML(value='')))"
      ]
     },
     "metadata": {},
     "output_type": "display_data"
    },
    {
     "data": {
      "application/vnd.jupyter.widget-view+json": {
       "model_id": "2956548251d04592859137dccb153bc2",
       "version_major": 2,
       "version_minor": 0
      },
      "text/plain": [
       "HBox(children=(FloatProgress(value=0.0, max=10000.0), HTML(value='')))"
      ]
     },
     "metadata": {},
     "output_type": "display_data"
    },
    {
     "data": {
      "application/vnd.jupyter.widget-view+json": {
       "model_id": "c0c51d22fd5149e9bd3fe4e4666356fc",
       "version_major": 2,
       "version_minor": 0
      },
      "text/plain": [
       "HBox(children=(FloatProgress(value=0.0, max=10000.0), HTML(value='')))"
      ]
     },
     "metadata": {},
     "output_type": "display_data"
    },
    {
     "name": "stdout",
     "output_type": "stream",
     "text": [
      "Create Var2 7\n"
     ]
    },
    {
     "data": {
      "application/vnd.jupyter.widget-view+json": {
       "model_id": "ea62c7827d8540e689af331c65c99576",
       "version_major": 2,
       "version_minor": 0
      },
      "text/plain": [
       "HBox(children=(FloatProgress(value=0.0, max=10000.0), HTML(value='')))"
      ]
     },
     "metadata": {},
     "output_type": "display_data"
    },
    {
     "data": {
      "application/vnd.jupyter.widget-view+json": {
       "model_id": "53217e508a3e4516940865e9821e1c12",
       "version_major": 2,
       "version_minor": 0
      },
      "text/plain": [
       "HBox(children=(FloatProgress(value=0.0, max=10000.0), HTML(value='')))"
      ]
     },
     "metadata": {},
     "output_type": "display_data"
    },
    {
     "data": {
      "application/vnd.jupyter.widget-view+json": {
       "model_id": "dd0f175a256c4d0db3562d6590f28f30",
       "version_major": 2,
       "version_minor": 0
      },
      "text/plain": [
       "HBox(children=(FloatProgress(value=0.0, max=10000.0), HTML(value='')))"
      ]
     },
     "metadata": {},
     "output_type": "display_data"
    },
    {
     "data": {
      "application/vnd.jupyter.widget-view+json": {
       "model_id": "3dc73fa01a0946f4a670f55b2e2be0ec",
       "version_major": 2,
       "version_minor": 0
      },
      "text/plain": [
       "HBox(children=(FloatProgress(value=0.0, max=10000.0), HTML(value='')))"
      ]
     },
     "metadata": {},
     "output_type": "display_data"
    },
    {
     "name": "stdout",
     "output_type": "stream",
     "text": [
      "Create Var2 8\n"
     ]
    },
    {
     "data": {
      "application/vnd.jupyter.widget-view+json": {
       "model_id": "185da3dd75c54585b45d34776cde5fb7",
       "version_major": 2,
       "version_minor": 0
      },
      "text/plain": [
       "HBox(children=(FloatProgress(value=0.0, max=10000.0), HTML(value='')))"
      ]
     },
     "metadata": {},
     "output_type": "display_data"
    },
    {
     "data": {
      "application/vnd.jupyter.widget-view+json": {
       "model_id": "d21893ba9e46451daed927e4a092cc18",
       "version_major": 2,
       "version_minor": 0
      },
      "text/plain": [
       "HBox(children=(FloatProgress(value=0.0, max=10000.0), HTML(value='')))"
      ]
     },
     "metadata": {},
     "output_type": "display_data"
    },
    {
     "data": {
      "application/vnd.jupyter.widget-view+json": {
       "model_id": "b95f95e9861f428e82c040b6965879bb",
       "version_major": 2,
       "version_minor": 0
      },
      "text/plain": [
       "HBox(children=(FloatProgress(value=0.0, max=10000.0), HTML(value='')))"
      ]
     },
     "metadata": {},
     "output_type": "display_data"
    },
    {
     "data": {
      "application/vnd.jupyter.widget-view+json": {
       "model_id": "a8ad67d636fe4c8bae225d15a42ae3f6",
       "version_major": 2,
       "version_minor": 0
      },
      "text/plain": [
       "HBox(children=(FloatProgress(value=0.0, max=10000.0), HTML(value='')))"
      ]
     },
     "metadata": {},
     "output_type": "display_data"
    },
    {
     "name": "stdout",
     "output_type": "stream",
     "text": [
      "Create Var2 9\n"
     ]
    },
    {
     "data": {
      "application/vnd.jupyter.widget-view+json": {
       "model_id": "e8085b4241904537a636d9c2f54aa97f",
       "version_major": 2,
       "version_minor": 0
      },
      "text/plain": [
       "HBox(children=(FloatProgress(value=0.0, max=10000.0), HTML(value='')))"
      ]
     },
     "metadata": {},
     "output_type": "display_data"
    },
    {
     "data": {
      "application/vnd.jupyter.widget-view+json": {
       "model_id": "193bf3a65c1e4554aa0322d8cb3dc72b",
       "version_major": 2,
       "version_minor": 0
      },
      "text/plain": [
       "HBox(children=(FloatProgress(value=0.0, max=10000.0), HTML(value='')))"
      ]
     },
     "metadata": {},
     "output_type": "display_data"
    },
    {
     "data": {
      "application/vnd.jupyter.widget-view+json": {
       "model_id": "cc11bdaf33ed43b69a3a20c2fed71a92",
       "version_major": 2,
       "version_minor": 0
      },
      "text/plain": [
       "HBox(children=(FloatProgress(value=0.0, max=10000.0), HTML(value='')))"
      ]
     },
     "metadata": {},
     "output_type": "display_data"
    },
    {
     "data": {
      "application/vnd.jupyter.widget-view+json": {
       "model_id": "0c701984be894208a7df2826e6598db3",
       "version_major": 2,
       "version_minor": 0
      },
      "text/plain": [
       "HBox(children=(FloatProgress(value=0.0, max=10000.0), HTML(value='')))"
      ]
     },
     "metadata": {},
     "output_type": "display_data"
    },
    {
     "name": "stdout",
     "output_type": "stream",
     "text": [
      "Create Var2 10\n"
     ]
    },
    {
     "data": {
      "application/vnd.jupyter.widget-view+json": {
       "model_id": "7e2170fbf6f94bbba791dcf5598e821f",
       "version_major": 2,
       "version_minor": 0
      },
      "text/plain": [
       "HBox(children=(FloatProgress(value=0.0, max=10000.0), HTML(value='')))"
      ]
     },
     "metadata": {},
     "output_type": "display_data"
    },
    {
     "data": {
      "application/vnd.jupyter.widget-view+json": {
       "model_id": "9fe0587c235547dc9f88a53b49d9893a",
       "version_major": 2,
       "version_minor": 0
      },
      "text/plain": [
       "HBox(children=(FloatProgress(value=0.0, max=10000.0), HTML(value='')))"
      ]
     },
     "metadata": {},
     "output_type": "display_data"
    },
    {
     "data": {
      "application/vnd.jupyter.widget-view+json": {
       "model_id": "6a29bb1e431d4f9ca723f1df618bc311",
       "version_major": 2,
       "version_minor": 0
      },
      "text/plain": [
       "HBox(children=(FloatProgress(value=0.0, max=10000.0), HTML(value='')))"
      ]
     },
     "metadata": {},
     "output_type": "display_data"
    },
    {
     "data": {
      "application/vnd.jupyter.widget-view+json": {
       "model_id": "7c675824dc25467fad90257a34e5d29b",
       "version_major": 2,
       "version_minor": 0
      },
      "text/plain": [
       "HBox(children=(FloatProgress(value=0.0, max=10000.0), HTML(value='')))"
      ]
     },
     "metadata": {},
     "output_type": "display_data"
    },
    {
     "name": "stdout",
     "output_type": "stream",
     "text": [
      "Create Var1 6\n",
      "Create Var2 6\n"
     ]
    },
    {
     "data": {
      "application/vnd.jupyter.widget-view+json": {
       "model_id": "2b96fe563eda4aafb5dcd403a6ba8e10",
       "version_major": 2,
       "version_minor": 0
      },
      "text/plain": [
       "HBox(children=(FloatProgress(value=0.0, max=10000.0), HTML(value='')))"
      ]
     },
     "metadata": {},
     "output_type": "display_data"
    },
    {
     "data": {
      "application/vnd.jupyter.widget-view+json": {
       "model_id": "5ca7e5686cc048f396b8244fe5e66457",
       "version_major": 2,
       "version_minor": 0
      },
      "text/plain": [
       "HBox(children=(FloatProgress(value=0.0, max=10000.0), HTML(value='')))"
      ]
     },
     "metadata": {},
     "output_type": "display_data"
    },
    {
     "data": {
      "application/vnd.jupyter.widget-view+json": {
       "model_id": "167de57ca5214ab4bd59bd04af9692f1",
       "version_major": 2,
       "version_minor": 0
      },
      "text/plain": [
       "HBox(children=(FloatProgress(value=0.0, max=10000.0), HTML(value='')))"
      ]
     },
     "metadata": {},
     "output_type": "display_data"
    },
    {
     "data": {
      "application/vnd.jupyter.widget-view+json": {
       "model_id": "b2096e8bd50d43a59ac77c305ab95180",
       "version_major": 2,
       "version_minor": 0
      },
      "text/plain": [
       "HBox(children=(FloatProgress(value=0.0, max=10000.0), HTML(value='')))"
      ]
     },
     "metadata": {},
     "output_type": "display_data"
    },
    {
     "name": "stdout",
     "output_type": "stream",
     "text": [
      "Create Var2 7\n"
     ]
    },
    {
     "data": {
      "application/vnd.jupyter.widget-view+json": {
       "model_id": "eee7476afdf24892915693b3fae5f94a",
       "version_major": 2,
       "version_minor": 0
      },
      "text/plain": [
       "HBox(children=(FloatProgress(value=0.0, max=10000.0), HTML(value='')))"
      ]
     },
     "metadata": {},
     "output_type": "display_data"
    },
    {
     "data": {
      "application/vnd.jupyter.widget-view+json": {
       "model_id": "8c38d8fb57b243f8841ef7b2cadcc4ed",
       "version_major": 2,
       "version_minor": 0
      },
      "text/plain": [
       "HBox(children=(FloatProgress(value=0.0, max=10000.0), HTML(value='')))"
      ]
     },
     "metadata": {},
     "output_type": "display_data"
    },
    {
     "data": {
      "application/vnd.jupyter.widget-view+json": {
       "model_id": "01a160d5b1d848d185710ef41785500a",
       "version_major": 2,
       "version_minor": 0
      },
      "text/plain": [
       "HBox(children=(FloatProgress(value=0.0, max=10000.0), HTML(value='')))"
      ]
     },
     "metadata": {},
     "output_type": "display_data"
    },
    {
     "data": {
      "application/vnd.jupyter.widget-view+json": {
       "model_id": "9f44789eb2eb4a6db92adb95a636bb47",
       "version_major": 2,
       "version_minor": 0
      },
      "text/plain": [
       "HBox(children=(FloatProgress(value=0.0, max=10000.0), HTML(value='')))"
      ]
     },
     "metadata": {},
     "output_type": "display_data"
    },
    {
     "name": "stdout",
     "output_type": "stream",
     "text": [
      "Create Var2 8\n"
     ]
    },
    {
     "data": {
      "application/vnd.jupyter.widget-view+json": {
       "model_id": "1d8b98d0c93e4c8584fa57fb897056f0",
       "version_major": 2,
       "version_minor": 0
      },
      "text/plain": [
       "HBox(children=(FloatProgress(value=0.0, max=10000.0), HTML(value='')))"
      ]
     },
     "metadata": {},
     "output_type": "display_data"
    },
    {
     "data": {
      "application/vnd.jupyter.widget-view+json": {
       "model_id": "e1b8c822da714362b729746133873a2d",
       "version_major": 2,
       "version_minor": 0
      },
      "text/plain": [
       "HBox(children=(FloatProgress(value=0.0, max=10000.0), HTML(value='')))"
      ]
     },
     "metadata": {},
     "output_type": "display_data"
    },
    {
     "data": {
      "application/vnd.jupyter.widget-view+json": {
       "model_id": "9c74b5838c6f466ea2ec0dd4d7eff479",
       "version_major": 2,
       "version_minor": 0
      },
      "text/plain": [
       "HBox(children=(FloatProgress(value=0.0, max=10000.0), HTML(value='')))"
      ]
     },
     "metadata": {},
     "output_type": "display_data"
    },
    {
     "data": {
      "application/vnd.jupyter.widget-view+json": {
       "model_id": "59b78276a07649eea8a3d7d2ada9eddd",
       "version_major": 2,
       "version_minor": 0
      },
      "text/plain": [
       "HBox(children=(FloatProgress(value=0.0, max=10000.0), HTML(value='')))"
      ]
     },
     "metadata": {},
     "output_type": "display_data"
    },
    {
     "ename": "KeyboardInterrupt",
     "evalue": "",
     "output_type": "error",
     "traceback": [
      "\u001b[0;31m---------------------------------------------------------------------------\u001b[0m",
      "\u001b[0;31mKeyboardInterrupt\u001b[0m                         Traceback (most recent call last)",
      "\u001b[0;32m<ipython-input-8-c59301f02837>\u001b[0m in \u001b[0;36m<module>\u001b[0;34m\u001b[0m\n\u001b[1;32m     15\u001b[0m \u001b[0;34m\u001b[0m\u001b[0m\n\u001b[1;32m     16\u001b[0m     log = simulate(n_loop = 10000, faceup_target = str(n_target), hand_target = [n_var1, n_var2], \n\u001b[0;32m---> 17\u001b[0;31m                    action_target = n_act )\n\u001b[0m\u001b[1;32m     18\u001b[0m \u001b[0;34m\u001b[0m\u001b[0m\n\u001b[1;32m     19\u001b[0m     \u001b[0mdata\u001b[0m\u001b[0;34m[\u001b[0m\u001b[0mn_target\u001b[0m\u001b[0;34m]\u001b[0m\u001b[0;34m[\u001b[0m\u001b[0mn_var1\u001b[0m\u001b[0;34m]\u001b[0m\u001b[0;34m[\u001b[0m\u001b[0mn_var2\u001b[0m\u001b[0;34m]\u001b[0m\u001b[0;34m[\u001b[0m\u001b[0mn_act\u001b[0m\u001b[0;34m]\u001b[0m \u001b[0;34m=\u001b[0m \u001b[0mlog\u001b[0m\u001b[0;34m\u001b[0m\u001b[0m\n",
      "\u001b[0;32m<ipython-input-2-ddde6f485f07>\u001b[0m in \u001b[0;36msimulate\u001b[0;34m(n_loop, faceup_target, hand_target, action_target)\u001b[0m\n\u001b[1;32m     16\u001b[0m             \u001b[0mblackjack\u001b[0m\u001b[0;34m.\u001b[0m\u001b[0mshoe\u001b[0m\u001b[0;34m.\u001b[0m\u001b[0mshuffle\u001b[0m\u001b[0;34m(\u001b[0m\u001b[0mreset\u001b[0m\u001b[0;34m=\u001b[0m\u001b[0;32mTrue\u001b[0m\u001b[0;34m)\u001b[0m\u001b[0;34m\u001b[0m\u001b[0m\n\u001b[1;32m     17\u001b[0m \u001b[0;34m\u001b[0m\u001b[0m\n\u001b[0;32m---> 18\u001b[0;31m         \u001b[0mgame\u001b[0m \u001b[0;34m=\u001b[0m \u001b[0mblackjack\u001b[0m\u001b[0;34m.\u001b[0m\u001b[0mrun\u001b[0m\u001b[0;34m(\u001b[0m\u001b[0;34m)\u001b[0m\u001b[0;34m\u001b[0m\u001b[0m\n\u001b[0m\u001b[1;32m     19\u001b[0m \u001b[0;34m\u001b[0m\u001b[0m\n\u001b[1;32m     20\u001b[0m         \u001b[0mdealer_hand\u001b[0m \u001b[0;34m=\u001b[0m \u001b[0mgame\u001b[0m\u001b[0;34m.\u001b[0m\u001b[0mdealer\u001b[0m\u001b[0;34m\u001b[0m\u001b[0m\n",
      "\u001b[0;32m~/project-myself/side-project/blackjack/game_config.py\u001b[0m in \u001b[0;36mrun\u001b[0;34m(self)\u001b[0m\n\u001b[1;32m     14\u001b[0m                 \u001b[0mhands\u001b[0m \u001b[0;34m=\u001b[0m \u001b[0mself\u001b[0m\u001b[0;34m.\u001b[0m\u001b[0mshoe\u001b[0m\u001b[0;34m.\u001b[0m\u001b[0mdeal_card\u001b[0m\u001b[0;34m(\u001b[0m\u001b[0mplayer_num\u001b[0m \u001b[0;34m=\u001b[0m \u001b[0mlen\u001b[0m\u001b[0;34m(\u001b[0m\u001b[0mself\u001b[0m\u001b[0;34m.\u001b[0m\u001b[0mplayer\u001b[0m\u001b[0;34m)\u001b[0m\u001b[0;34m)\u001b[0m\u001b[0;34m\u001b[0m\u001b[0m\n\u001b[1;32m     15\u001b[0m \t\treturn Round_play(dealer_hand = Dealer(hands[-1]), \n\u001b[0;32m---> 16\u001b[0;31m \t\t\tplayer_hand = [Hand(hand, player = player) for hand, player in zip(hands[:-1], self.player)])\n\u001b[0m\u001b[1;32m     17\u001b[0m \u001b[0;34m\u001b[0m\u001b[0m\n\u001b[1;32m     18\u001b[0m         \u001b[0;32mdef\u001b[0m \u001b[0mlog\u001b[0m\u001b[0;34m(\u001b[0m\u001b[0mself\u001b[0m\u001b[0;34m,\u001b[0m \u001b[0mgameplay\u001b[0m\u001b[0;34m)\u001b[0m\u001b[0;34m:\u001b[0m\u001b[0;34m\u001b[0m\u001b[0m\n",
      "\u001b[0;31mKeyboardInterrupt\u001b[0m: "
     ]
    }
   ],
   "source": [
    "n_target, n_var1, n_var2, n_act = next_loop(last_target, last_var1, last_var2, last_act)\n",
    "\n",
    "while n_target != None:\n",
    "    if data.get(n_target) == None:\n",
    "        data[n_target] = {}\n",
    "        print('Create Target %s' %n_target)\n",
    "        \n",
    "    if data.get(n_target).get(n_var1) == None:\n",
    "        data[n_target][n_var1] = {}\n",
    "        print('Create Var1 %s' %n_var1)\n",
    "        \n",
    "    if data.get(n_target).get(n_var1).get(n_var2) == None:\n",
    "        data[n_target][n_var1][n_var2] = {}\n",
    "        print('Create Var2 %s' %n_var2)\n",
    "        \n",
    "    log = simulate(n_loop = 10000, faceup_target = str(n_target), hand_target = [n_var1, n_var2], \n",
    "                   action_target = n_act )\n",
    "\n",
    "    data[n_target][n_var1][n_var2][n_act] = log\n",
    "    \n",
    "    n_target, n_var1, n_var2, n_act = next_loop(n_target, n_var1, n_var2, n_act)"
   ]
  },
  {
   "cell_type": "code",
   "execution_count": 9,
   "metadata": {},
   "outputs": [],
   "source": [
    "with open('data_raw_4','wb') as file:\n",
    "    pickle.dump(data,file)"
   ]
  },
  {
   "cell_type": "code",
   "execution_count": 4,
   "metadata": {},
   "outputs": [
    {
     "name": "stderr",
     "output_type": "stream",
     "text": [
      "/Users/duongnt/anaconda3/lib/python3.7/site-packages/ipykernel_launcher.py:3: TqdmDeprecationWarning: This function will be removed in tqdm==5.0.0\n",
      "Please use `tqdm.notebook.tqdm` instead of `tqdm.tqdm_notebook`\n",
      "  This is separate from the ipykernel package so we can avoid doing imports until\n"
     ]
    },
    {
     "data": {
      "application/vnd.jupyter.widget-view+json": {
       "model_id": "410e9d9a35ad4a8185eb7a399108ca9c",
       "version_major": 2,
       "version_minor": 0
      },
      "text/plain": [
       "HBox(children=(FloatProgress(value=0.0, max=10000.0), HTML(value='')))"
      ]
     },
     "metadata": {},
     "output_type": "display_data"
    },
    {
     "data": {
      "application/vnd.jupyter.widget-view+json": {
       "model_id": "59ba71488cff4bd9a53a751f2dc79b22",
       "version_major": 2,
       "version_minor": 0
      },
      "text/plain": [
       "HBox(children=(FloatProgress(value=0.0, max=10000.0), HTML(value='')))"
      ]
     },
     "metadata": {},
     "output_type": "display_data"
    },
    {
     "ename": "KeyboardInterrupt",
     "evalue": "",
     "output_type": "error",
     "traceback": [
      "\u001b[0;31m---------------------------------------------------------------------------\u001b[0m",
      "\u001b[0;31mKeyboardInterrupt\u001b[0m                         Traceback (most recent call last)",
      "\u001b[0;32m<ipython-input-4-1b0859e9f5bd>\u001b[0m in \u001b[0;36m<module>\u001b[0;34m\u001b[0m\n\u001b[1;32m      9\u001b[0m                 \u001b[0;32mfor\u001b[0m \u001b[0mact\u001b[0m \u001b[0;32min\u001b[0m \u001b[0;34m[\u001b[0m\u001b[0;34m'hit'\u001b[0m\u001b[0;34m,\u001b[0m\u001b[0;34m'stand'\u001b[0m\u001b[0;34m,\u001b[0m\u001b[0;34m'x2'\u001b[0m\u001b[0;34m,\u001b[0m\u001b[0;34m'split'\u001b[0m\u001b[0;34m]\u001b[0m\u001b[0;34m:\u001b[0m\u001b[0;34m\u001b[0m\u001b[0m\n\u001b[1;32m     10\u001b[0m \u001b[0;34m\u001b[0m\u001b[0m\n\u001b[0;32m---> 11\u001b[0;31m                     \u001b[0mlog\u001b[0m \u001b[0;34m=\u001b[0m \u001b[0msimulate\u001b[0m\u001b[0;34m(\u001b[0m\u001b[0mn_loop\u001b[0m \u001b[0;34m=\u001b[0m \u001b[0;36m10000\u001b[0m\u001b[0;34m,\u001b[0m \u001b[0mfaceup_target\u001b[0m \u001b[0;34m=\u001b[0m \u001b[0mstr\u001b[0m\u001b[0;34m(\u001b[0m\u001b[0mtarget\u001b[0m\u001b[0;34m)\u001b[0m\u001b[0;34m,\u001b[0m \u001b[0mhand_target\u001b[0m \u001b[0;34m=\u001b[0m \u001b[0;34m[\u001b[0m\u001b[0mvar1\u001b[0m\u001b[0;34m,\u001b[0m \u001b[0mvar2\u001b[0m\u001b[0;34m]\u001b[0m\u001b[0;34m,\u001b[0m \u001b[0maction_target\u001b[0m \u001b[0;34m=\u001b[0m \u001b[0mact\u001b[0m \u001b[0;34m)\u001b[0m\u001b[0;34m\u001b[0m\u001b[0m\n\u001b[0m\u001b[1;32m     12\u001b[0m                     \u001b[0mdata\u001b[0m\u001b[0;34m[\u001b[0m\u001b[0mtarget\u001b[0m\u001b[0;34m]\u001b[0m\u001b[0;34m[\u001b[0m\u001b[0mvar1\u001b[0m\u001b[0;34m]\u001b[0m\u001b[0;34m[\u001b[0m\u001b[0mvar2\u001b[0m\u001b[0;34m]\u001b[0m\u001b[0;34m[\u001b[0m\u001b[0mact\u001b[0m\u001b[0;34m]\u001b[0m \u001b[0;34m=\u001b[0m \u001b[0mlog\u001b[0m\u001b[0;34m\u001b[0m\u001b[0m\n",
      "\u001b[0;32m<ipython-input-2-ddde6f485f07>\u001b[0m in \u001b[0;36msimulate\u001b[0;34m(n_loop, faceup_target, hand_target, action_target)\u001b[0m\n\u001b[1;32m     16\u001b[0m             \u001b[0mblackjack\u001b[0m\u001b[0;34m.\u001b[0m\u001b[0mshoe\u001b[0m\u001b[0;34m.\u001b[0m\u001b[0mshuffle\u001b[0m\u001b[0;34m(\u001b[0m\u001b[0mreset\u001b[0m\u001b[0;34m=\u001b[0m\u001b[0;32mTrue\u001b[0m\u001b[0;34m)\u001b[0m\u001b[0;34m\u001b[0m\u001b[0m\n\u001b[1;32m     17\u001b[0m \u001b[0;34m\u001b[0m\u001b[0m\n\u001b[0;32m---> 18\u001b[0;31m         \u001b[0mgame\u001b[0m \u001b[0;34m=\u001b[0m \u001b[0mblackjack\u001b[0m\u001b[0;34m.\u001b[0m\u001b[0mrun\u001b[0m\u001b[0;34m(\u001b[0m\u001b[0;34m)\u001b[0m\u001b[0;34m\u001b[0m\u001b[0m\n\u001b[0m\u001b[1;32m     19\u001b[0m \u001b[0;34m\u001b[0m\u001b[0m\n\u001b[1;32m     20\u001b[0m         \u001b[0mdealer_hand\u001b[0m \u001b[0;34m=\u001b[0m \u001b[0mgame\u001b[0m\u001b[0;34m.\u001b[0m\u001b[0mdealer\u001b[0m\u001b[0;34m\u001b[0m\u001b[0m\n",
      "\u001b[0;32m~/project-myself/side-project/blackjack/game_config.py\u001b[0m in \u001b[0;36mrun\u001b[0;34m(self)\u001b[0m\n\u001b[1;32m     13\u001b[0m         \u001b[0;32mdef\u001b[0m \u001b[0mrun\u001b[0m\u001b[0;34m(\u001b[0m\u001b[0mself\u001b[0m\u001b[0;34m)\u001b[0m\u001b[0;34m:\u001b[0m\u001b[0;34m\u001b[0m\u001b[0m\n\u001b[1;32m     14\u001b[0m                 \u001b[0mhands\u001b[0m \u001b[0;34m=\u001b[0m \u001b[0mself\u001b[0m\u001b[0;34m.\u001b[0m\u001b[0mshoe\u001b[0m\u001b[0;34m.\u001b[0m\u001b[0mdeal_card\u001b[0m\u001b[0;34m(\u001b[0m\u001b[0mplayer_num\u001b[0m \u001b[0;34m=\u001b[0m \u001b[0mlen\u001b[0m\u001b[0;34m(\u001b[0m\u001b[0mself\u001b[0m\u001b[0;34m.\u001b[0m\u001b[0mplayer\u001b[0m\u001b[0;34m)\u001b[0m\u001b[0;34m)\u001b[0m\u001b[0;34m\u001b[0m\u001b[0m\n\u001b[0;32m---> 15\u001b[0;31m \t\treturn Round_play(dealer_hand = Dealer(hands[-1]), \n\u001b[0m\u001b[1;32m     16\u001b[0m \t\t\tplayer_hand = [Hand(hand, player = player) for hand, player in zip(hands[:-1], self.player)])\n\u001b[1;32m     17\u001b[0m \u001b[0;34m\u001b[0m\u001b[0m\n",
      "\u001b[0;32m~/project-myself/side-project/blackjack/hand.py\u001b[0m in \u001b[0;36m__init__\u001b[0;34m(self, hand)\u001b[0m\n\u001b[1;32m    116\u001b[0m \u001b[0;32mclass\u001b[0m \u001b[0mDealer\u001b[0m\u001b[0;34m(\u001b[0m\u001b[0mHand\u001b[0m\u001b[0;34m)\u001b[0m\u001b[0;34m:\u001b[0m\u001b[0;34m\u001b[0m\u001b[0m\n\u001b[1;32m    117\u001b[0m         \u001b[0;32mdef\u001b[0m \u001b[0m__init__\u001b[0m\u001b[0;34m(\u001b[0m\u001b[0mself\u001b[0m\u001b[0;34m,\u001b[0m \u001b[0mhand\u001b[0m\u001b[0;34m:\u001b[0m \u001b[0mlist\u001b[0m\u001b[0;34m)\u001b[0m\u001b[0;34m:\u001b[0m\u001b[0;34m\u001b[0m\u001b[0m\n\u001b[0;32m--> 118\u001b[0;31m                 \u001b[0msuper\u001b[0m\u001b[0;34m(\u001b[0m\u001b[0;34m)\u001b[0m\u001b[0;34m.\u001b[0m\u001b[0m__init__\u001b[0m\u001b[0;34m(\u001b[0m\u001b[0mhand\u001b[0m\u001b[0;34m)\u001b[0m\u001b[0;34m\u001b[0m\u001b[0m\n\u001b[0m\u001b[1;32m    119\u001b[0m \u001b[0;34m\u001b[0m\u001b[0m\n\u001b[1;32m    120\u001b[0m         \u001b[0;32mdef\u001b[0m \u001b[0mget_faceup_card\u001b[0m\u001b[0;34m(\u001b[0m\u001b[0mself\u001b[0m\u001b[0;34m)\u001b[0m\u001b[0;34m:\u001b[0m\u001b[0;34m\u001b[0m\u001b[0m\n",
      "\u001b[0;32m~/project-myself/side-project/blackjack/hand.py\u001b[0m in \u001b[0;36m__init__\u001b[0;34m(self, hand, freeze, player)\u001b[0m\n\u001b[1;32m     40\u001b[0m \u001b[0;34m\u001b[0m\u001b[0m\n\u001b[1;32m     41\u001b[0m                 \u001b[0mself\u001b[0m\u001b[0;34m.\u001b[0m\u001b[0mscore\u001b[0m \u001b[0;34m=\u001b[0m \u001b[0mhand\u001b[0m\u001b[0;34m[\u001b[0m\u001b[0;36m0\u001b[0m\u001b[0;34m]\u001b[0m\u001b[0;34m.\u001b[0m\u001b[0mget_score\u001b[0m\u001b[0;34m(\u001b[0m\u001b[0;34m)\u001b[0m\u001b[0;34m\u001b[0m\u001b[0m\n\u001b[0;32m---> 42\u001b[0;31m                 \u001b[0mself\u001b[0m\u001b[0;34m.\u001b[0m\u001b[0mscore\u001b[0m \u001b[0;34m=\u001b[0m \u001b[0mcal_score\u001b[0m\u001b[0;34m(\u001b[0m\u001b[0mself\u001b[0m\u001b[0;34m.\u001b[0m\u001b[0mscore\u001b[0m\u001b[0;34m,\u001b[0m \u001b[0mhand\u001b[0m\u001b[0;34m[\u001b[0m\u001b[0;34m-\u001b[0m\u001b[0;36m1\u001b[0m\u001b[0;34m]\u001b[0m\u001b[0;34m)\u001b[0m\u001b[0;34m\u001b[0m\u001b[0m\n\u001b[0m\u001b[1;32m     43\u001b[0m \u001b[0;34m\u001b[0m\u001b[0m\n\u001b[1;32m     44\u001b[0m                 \u001b[0mself\u001b[0m\u001b[0;34m.\u001b[0m\u001b[0maction\u001b[0m \u001b[0;34m=\u001b[0m \u001b[0;36m0\u001b[0m\u001b[0;34m\u001b[0m\u001b[0m\n",
      "\u001b[0;32m~/project-myself/side-project/blackjack/hand.py\u001b[0m in \u001b[0;36mcal_score\u001b[0;34m(score_base, card)\u001b[0m\n\u001b[1;32m     11\u001b[0m \u001b[0;34m\u001b[0m\u001b[0m\n\u001b[1;32m     12\u001b[0m         \u001b[0mout\u001b[0m \u001b[0;34m=\u001b[0m \u001b[0;34m[\u001b[0m\u001b[0;36m21\u001b[0m\u001b[0;34m]\u001b[0m \u001b[0;32mif\u001b[0m \u001b[0;36m21\u001b[0m \u001b[0;32min\u001b[0m \u001b[0mout\u001b[0m \u001b[0;32melse\u001b[0m \u001b[0mout\u001b[0m\u001b[0;34m\u001b[0m\u001b[0m\n\u001b[0;32m---> 13\u001b[0;31m         \u001b[0;32mreturn\u001b[0m \u001b[0mlist\u001b[0m\u001b[0;34m(\u001b[0m\u001b[0mset\u001b[0m\u001b[0;34m(\u001b[0m\u001b[0mout\u001b[0m\u001b[0;34m)\u001b[0m\u001b[0;34m)\u001b[0m\u001b[0;34m\u001b[0m\u001b[0m\n\u001b[0m\u001b[1;32m     14\u001b[0m \u001b[0;34m\u001b[0m\u001b[0m\n\u001b[1;32m     15\u001b[0m \u001b[0;34m\u001b[0m\u001b[0m\n",
      "\u001b[0;31mKeyboardInterrupt\u001b[0m: "
     ]
    }
   ],
   "source": [
    "# for target in range(n_target,11):\n",
    "    \n",
    "#     if data.get(n_target) == None:\n",
    "#         data[n_target] = {}\n",
    "\n",
    "#     for var1 in range(n_var1,11):\n",
    "        \n",
    "#         if data.get(n_target).get(n_var1) == None:\n",
    "#             data[n_target][n_var1] = {}\n",
    "            \n",
    "#         for var2 in range(n_var2,11):\n",
    "#             if var2 >= var1:\n",
    "                \n",
    "#                 if data.get(n_target).get(n_var1).get(n_var2) == None:\n",
    "#                     data[n_target][n_var1][n_var2] = {}\n",
    "                    \n",
    "#                 for act in ['hit','stand','x2','split']:\n",
    "                \n",
    "#                     log = simulate(n_loop = 10000, faceup_target = str(target), hand_target = [var1, var2], action_target = act )\n",
    "#                     data[target][var1][var2][act] = log"
   ]
  },
  {
   "cell_type": "code",
   "execution_count": 5,
   "metadata": {},
   "outputs": [],
   "source": [
    "with open('data_raw','wb') as file:\n",
    "    pickle.dump(data,file)"
   ]
  },
  {
   "cell_type": "code",
   "execution_count": 6,
   "metadata": {},
   "outputs": [],
   "source": [
    "with open('data_raw','rb') as file:\n",
    "    test = pickle.load(file)"
   ]
  },
  {
   "cell_type": "code",
   "execution_count": 7,
   "metadata": {},
   "outputs": [
    {
     "data": {
      "text/plain": [
       "{1: {1: {1: {'hit': [<game_config.Round_play at 0x10f48f6a0>,\n",
       "     <game_config.Round_play at 0x10f48b908>,\n",
       "     <game_config.Round_play at 0x10f48ba90>,\n",
       "     <game_config.Round_play at 0x10f48b320>,\n",
       "     <game_config.Round_play at 0x1107acc50>,\n",
       "     <game_config.Round_play at 0x1107acc88>,\n",
       "     <game_config.Round_play at 0x1107c2128>,\n",
       "     <game_config.Round_play at 0x1107c2400>,\n",
       "     <game_config.Round_play at 0x1107c24a8>,\n",
       "     <game_config.Round_play at 0x1107c2550>,\n",
       "     <game_config.Round_play at 0x1107c2748>,\n",
       "     <game_config.Round_play at 0x1107c2898>,\n",
       "     <game_config.Round_play at 0x1107c2a20>,\n",
       "     <game_config.Round_play at 0x1107c2b38>,\n",
       "     <game_config.Round_play at 0x1107c2c88>,\n",
       "     <game_config.Round_play at 0x1107c2f28>,\n",
       "     <game_config.Round_play at 0x1107c90b8>,\n",
       "     <game_config.Round_play at 0x1107c9358>,\n",
       "     <game_config.Round_play at 0x1107c9400>,\n",
       "     <game_config.Round_play at 0x1107c9550>,\n",
       "     <game_config.Round_play at 0x1107c96a0>,\n",
       "     <game_config.Round_play at 0x1107c98d0>,\n",
       "     <game_config.Round_play at 0x1107c9b00>,\n",
       "     <game_config.Round_play at 0x1107c9ba8>,\n",
       "     <game_config.Round_play at 0x1107c9cf8>,\n",
       "     <game_config.Round_play at 0x1107c9da0>,\n",
       "     <game_config.Round_play at 0x1107c9e48>,\n",
       "     <game_config.Round_play at 0x1107c9f28>,\n",
       "     <game_config.Round_play at 0x1107d20f0>,\n",
       "     <game_config.Round_play at 0x1107d21d0>,\n",
       "     <game_config.Round_play at 0x1107d2358>,\n",
       "     <game_config.Round_play at 0x1107d2400>,\n",
       "     <game_config.Round_play at 0x1107d24e0>,\n",
       "     <game_config.Round_play at 0x1107d2588>,\n",
       "     <game_config.Round_play at 0x1107d2630>,\n",
       "     <game_config.Round_play at 0x1107d2860>,\n",
       "     <game_config.Round_play at 0x1107d2908>,\n",
       "     <game_config.Round_play at 0x1107d29b0>,\n",
       "     <game_config.Round_play at 0x1107d2a90>,\n",
       "     <game_config.Round_play at 0x1107d2b38>,\n",
       "     <game_config.Round_play at 0x1107d2c18>,\n",
       "     <game_config.Round_play at 0x1107d2cc0>,\n",
       "     <game_config.Round_play at 0x1107d2e48>,\n",
       "     <game_config.Round_play at 0x1107d2ef0>,\n",
       "     <game_config.Round_play at 0x1107d2fd0>,\n",
       "     <game_config.Round_play at 0x1107fc0b8>,\n",
       "     <game_config.Round_play at 0x1107fc208>,\n",
       "     <game_config.Round_play at 0x1107fc3c8>,\n",
       "     <game_config.Round_play at 0x1107fc470>,\n",
       "     <game_config.Round_play at 0x1107fc518>,\n",
       "     <game_config.Round_play at 0x1107fc5f8>,\n",
       "     <game_config.Round_play at 0x1107fc6a0>,\n",
       "     <game_config.Round_play at 0x1107fc748>,\n",
       "     <game_config.Round_play at 0x1107fc7f0>,\n",
       "     <game_config.Round_play at 0x1107fc898>,\n",
       "     <game_config.Round_play at 0x1107fc978>,\n",
       "     <game_config.Round_play at 0x1107fca20>,\n",
       "     <game_config.Round_play at 0x1107fcac8>,\n",
       "     <game_config.Round_play at 0x1107fcb70>,\n",
       "     <game_config.Round_play at 0x1107fcc50>,\n",
       "     <game_config.Round_play at 0x1107fcd68>,\n",
       "     <game_config.Round_play at 0x1107fce48>,\n",
       "     <game_config.Round_play at 0x1107fcf28>,\n",
       "     <game_config.Round_play at 0x1107fcfd0>,\n",
       "     <game_config.Round_play at 0x1108080b8>,\n",
       "     <game_config.Round_play at 0x110808198>,\n",
       "     <game_config.Round_play at 0x1108082b0>,\n",
       "     <game_config.Round_play at 0x110808358>,\n",
       "     <game_config.Round_play at 0x110808400>,\n",
       "     <game_config.Round_play at 0x1108084a8>,\n",
       "     <game_config.Round_play at 0x110808710>,\n",
       "     <game_config.Round_play at 0x1108087f0>,\n",
       "     <game_config.Round_play at 0x110808898>,\n",
       "     <game_config.Round_play at 0x110808940>,\n",
       "     <game_config.Round_play at 0x1108089e8>,\n",
       "     <game_config.Round_play at 0x110808ac8>,\n",
       "     <game_config.Round_play at 0x110808b70>,\n",
       "     <game_config.Round_play at 0x110808c18>,\n",
       "     <game_config.Round_play at 0x110808cc0>,\n",
       "     <game_config.Round_play at 0x110808d68>,\n",
       "     <game_config.Round_play at 0x110808e48>,\n",
       "     <game_config.Round_play at 0x110808ef0>,\n",
       "     <game_config.Round_play at 0x110808f98>,\n",
       "     <game_config.Round_play at 0x1108140f0>,\n",
       "     <game_config.Round_play at 0x110814198>,\n",
       "     <game_config.Round_play at 0x110814240>,\n",
       "     <game_config.Round_play at 0x110814358>,\n",
       "     <game_config.Round_play at 0x110814400>,\n",
       "     <game_config.Round_play at 0x1108144a8>,\n",
       "     <game_config.Round_play at 0x110814588>,\n",
       "     <game_config.Round_play at 0x110814668>,\n",
       "     <game_config.Round_play at 0x110814748>,\n",
       "     <game_config.Round_play at 0x110814828>,\n",
       "     <game_config.Round_play at 0x110814908>,\n",
       "     <game_config.Round_play at 0x1108149b0>,\n",
       "     <game_config.Round_play at 0x110814a58>,\n",
       "     <game_config.Round_play at 0x110814b38>,\n",
       "     <game_config.Round_play at 0x110814c18>,\n",
       "     <game_config.Round_play at 0x110814cc0>,\n",
       "     <game_config.Round_play at 0x110814d68>,\n",
       "     <game_config.Round_play at 0x110814e10>,\n",
       "     <game_config.Round_play at 0x110814eb8>,\n",
       "     <game_config.Round_play at 0x110814f98>,\n",
       "     <game_config.Round_play at 0x1108210b8>,\n",
       "     <game_config.Round_play at 0x110821160>,\n",
       "     <game_config.Round_play at 0x110821208>,\n",
       "     <game_config.Round_play at 0x1108212e8>,\n",
       "     <game_config.Round_play at 0x110821400>,\n",
       "     <game_config.Round_play at 0x110821518>,\n",
       "     <game_config.Round_play at 0x1108215f8>,\n",
       "     <game_config.Round_play at 0x1108216a0>,\n",
       "     <game_config.Round_play at 0x110821780>,\n",
       "     <game_config.Round_play at 0x110821860>,\n",
       "     <game_config.Round_play at 0x110821908>,\n",
       "     <game_config.Round_play at 0x1108219e8>,\n",
       "     <game_config.Round_play at 0x110821a90>,\n",
       "     <game_config.Round_play at 0x110821b38>,\n",
       "     <game_config.Round_play at 0x110821be0>,\n",
       "     <game_config.Round_play at 0x110821cc0>,\n",
       "     <game_config.Round_play at 0x110821d68>,\n",
       "     <game_config.Round_play at 0x110821e10>,\n",
       "     <game_config.Round_play at 0x110821eb8>,\n",
       "     <game_config.Round_play at 0x110821f60>,\n",
       "     <game_config.Round_play at 0x11082e080>,\n",
       "     <game_config.Round_play at 0x11082e128>,\n",
       "     <game_config.Round_play at 0x11082e208>,\n",
       "     <game_config.Round_play at 0x11082e2b0>,\n",
       "     <game_config.Round_play at 0x11082e358>,\n",
       "     <game_config.Round_play at 0x11082e400>,\n",
       "     <game_config.Round_play at 0x11082e4e0>,\n",
       "     <game_config.Round_play at 0x11082e5c0>,\n",
       "     <game_config.Round_play at 0x11082e6a0>,\n",
       "     <game_config.Round_play at 0x11082e780>,\n",
       "     <game_config.Round_play at 0x11082e828>,\n",
       "     <game_config.Round_play at 0x11082e908>,\n",
       "     <game_config.Round_play at 0x11082e9e8>,\n",
       "     <game_config.Round_play at 0x11082ea90>,\n",
       "     <game_config.Round_play at 0x11082eb38>,\n",
       "     <game_config.Round_play at 0x11082ec18>,\n",
       "     <game_config.Round_play at 0x11082ecf8>,\n",
       "     <game_config.Round_play at 0x11082eda0>,\n",
       "     <game_config.Round_play at 0x11082ee80>,\n",
       "     <game_config.Round_play at 0x11082ef28>,\n",
       "     <game_config.Round_play at 0x11083b048>,\n",
       "     <game_config.Round_play at 0x11083b128>,\n",
       "     <game_config.Round_play at 0x11083b240>,\n",
       "     <game_config.Round_play at 0x11083b2e8>,\n",
       "     <game_config.Round_play at 0x11083b390>,\n",
       "     <game_config.Round_play at 0x11083b470>,\n",
       "     <game_config.Round_play at 0x11083b518>,\n",
       "     <game_config.Round_play at 0x11083b5c0>,\n",
       "     <game_config.Round_play at 0x11083b668>,\n",
       "     <game_config.Round_play at 0x11083b710>,\n",
       "     <game_config.Round_play at 0x11083b7b8>,\n",
       "     <game_config.Round_play at 0x11083b860>,\n",
       "     <game_config.Round_play at 0x11083b940>,\n",
       "     <game_config.Round_play at 0x11083ba20>,\n",
       "     <game_config.Round_play at 0x11083bb38>,\n",
       "     <game_config.Round_play at 0x11083bc50>,\n",
       "     <game_config.Round_play at 0x11083bcf8>,\n",
       "     <game_config.Round_play at 0x11083bda0>,\n",
       "     <game_config.Round_play at 0x11083be48>,\n",
       "     <game_config.Round_play at 0x11083bef0>,\n",
       "     <game_config.Round_play at 0x11083bf98>,\n",
       "     <game_config.Round_play at 0x111215080>,\n",
       "     <game_config.Round_play at 0x111215128>,\n",
       "     <game_config.Round_play at 0x111215208>,\n",
       "     <game_config.Round_play at 0x1112152e8>,\n",
       "     <game_config.Round_play at 0x1112153c8>,\n",
       "     <game_config.Round_play at 0x111215470>,\n",
       "     <game_config.Round_play at 0x111215518>,\n",
       "     <game_config.Round_play at 0x1112155f8>,\n",
       "     <game_config.Round_play at 0x1112156a0>,\n",
       "     <game_config.Round_play at 0x111215748>,\n",
       "     <game_config.Round_play at 0x111215828>,\n",
       "     <game_config.Round_play at 0x111215908>,\n",
       "     <game_config.Round_play at 0x111215a20>,\n",
       "     <game_config.Round_play at 0x111215b00>,\n",
       "     <game_config.Round_play at 0x111215ba8>,\n",
       "     <game_config.Round_play at 0x111215c88>,\n",
       "     <game_config.Round_play at 0x111215d68>,\n",
       "     <game_config.Round_play at 0x111215e10>,\n",
       "     <game_config.Round_play at 0x111215eb8>,\n",
       "     <game_config.Round_play at 0x111215f98>,\n",
       "     <game_config.Round_play at 0x11121f080>,\n",
       "     <game_config.Round_play at 0x11121f198>,\n",
       "     <game_config.Round_play at 0x11121f278>,\n",
       "     <game_config.Round_play at 0x11121f390>,\n",
       "     <game_config.Round_play at 0x11121f438>,\n",
       "     <game_config.Round_play at 0x11121f518>,\n",
       "     <game_config.Round_play at 0x11121f5c0>,\n",
       "     <game_config.Round_play at 0x11121f668>,\n",
       "     <game_config.Round_play at 0x11121f748>,\n",
       "     <game_config.Round_play at 0x11121f7f0>,\n",
       "     <game_config.Round_play at 0x11121f898>,\n",
       "     <game_config.Round_play at 0x11121f9b0>,\n",
       "     <game_config.Round_play at 0x11121fa90>,\n",
       "     <game_config.Round_play at 0x11121fb70>,\n",
       "     <game_config.Round_play at 0x11121fc18>,\n",
       "     <game_config.Round_play at 0x11121fcf8>,\n",
       "     <game_config.Round_play at 0x11121fda0>,\n",
       "     <game_config.Round_play at 0x11121fe48>,\n",
       "     <game_config.Round_play at 0x11121fef0>,\n",
       "     <game_config.Round_play at 0x11121ff98>,\n",
       "     <game_config.Round_play at 0x11122d080>,\n",
       "     <game_config.Round_play at 0x11122d128>,\n",
       "     <game_config.Round_play at 0x11122d208>,\n",
       "     <game_config.Round_play at 0x11122d2b0>,\n",
       "     <game_config.Round_play at 0x11122d390>,\n",
       "     <game_config.Round_play at 0x11122d438>,\n",
       "     <game_config.Round_play at 0x11122d4e0>,\n",
       "     <game_config.Round_play at 0x11122d588>,\n",
       "     <game_config.Round_play at 0x11122d668>,\n",
       "     <game_config.Round_play at 0x11122d748>,\n",
       "     <game_config.Round_play at 0x11122d7f0>,\n",
       "     <game_config.Round_play at 0x11122d898>,\n",
       "     <game_config.Round_play at 0x11122d940>,\n",
       "     <game_config.Round_play at 0x11122d9e8>,\n",
       "     <game_config.Round_play at 0x11122dac8>,\n",
       "     <game_config.Round_play at 0x11122dba8>,\n",
       "     <game_config.Round_play at 0x11122dc88>,\n",
       "     <game_config.Round_play at 0x11122dd30>,\n",
       "     <game_config.Round_play at 0x11122de10>,\n",
       "     <game_config.Round_play at 0x11122deb8>,\n",
       "     <game_config.Round_play at 0x11122df98>,\n",
       "     <game_config.Round_play at 0x11123a080>,\n",
       "     <game_config.Round_play at 0x11123a128>,\n",
       "     <game_config.Round_play at 0x11123a208>,\n",
       "     <game_config.Round_play at 0x11123a2e8>,\n",
       "     <game_config.Round_play at 0x11123a390>,\n",
       "     <game_config.Round_play at 0x11123a470>,\n",
       "     <game_config.Round_play at 0x11123a550>,\n",
       "     <game_config.Round_play at 0x11123a5f8>,\n",
       "     <game_config.Round_play at 0x11123a6a0>,\n",
       "     <game_config.Round_play at 0x11123a780>,\n",
       "     <game_config.Round_play at 0x11123a828>,\n",
       "     <game_config.Round_play at 0x11123a8d0>,\n",
       "     <game_config.Round_play at 0x11123a978>,\n",
       "     <game_config.Round_play at 0x11123aa58>,\n",
       "     <game_config.Round_play at 0x11123ab00>,\n",
       "     <game_config.Round_play at 0x11123abe0>,\n",
       "     <game_config.Round_play at 0x11123ac88>,\n",
       "     <game_config.Round_play at 0x11123ad30>,\n",
       "     <game_config.Round_play at 0x11123add8>,\n",
       "     <game_config.Round_play at 0x11123aeb8>,\n",
       "     <game_config.Round_play at 0x11123af60>,\n",
       "     <game_config.Round_play at 0x111248048>,\n",
       "     <game_config.Round_play at 0x1112480f0>,\n",
       "     <game_config.Round_play at 0x1112481d0>,\n",
       "     <game_config.Round_play at 0x1112482e8>,\n",
       "     <game_config.Round_play at 0x111248390>,\n",
       "     <game_config.Round_play at 0x111248470>,\n",
       "     <game_config.Round_play at 0x111248518>,\n",
       "     <game_config.Round_play at 0x1112485c0>,\n",
       "     <game_config.Round_play at 0x111248668>,\n",
       "     <game_config.Round_play at 0x111248748>,\n",
       "     <game_config.Round_play at 0x111248860>,\n",
       "     <game_config.Round_play at 0x111248908>,\n",
       "     <game_config.Round_play at 0x1112489e8>,\n",
       "     <game_config.Round_play at 0x111248a90>,\n",
       "     <game_config.Round_play at 0x111248b38>,\n",
       "     <game_config.Round_play at 0x111248c18>,\n",
       "     <game_config.Round_play at 0x111248cf8>,\n",
       "     <game_config.Round_play at 0x111248da0>,\n",
       "     <game_config.Round_play at 0x111248e80>,\n",
       "     <game_config.Round_play at 0x111248f28>,\n",
       "     <game_config.Round_play at 0x111248fd0>,\n",
       "     <game_config.Round_play at 0x1112550b8>,\n",
       "     <game_config.Round_play at 0x111255160>,\n",
       "     <game_config.Round_play at 0x111255208>,\n",
       "     <game_config.Round_play at 0x111255320>,\n",
       "     <game_config.Round_play at 0x111255438>,\n",
       "     <game_config.Round_play at 0x111255550>,\n",
       "     <game_config.Round_play at 0x111255630>,\n",
       "     <game_config.Round_play at 0x111255710>,\n",
       "     <game_config.Round_play at 0x1112557b8>,\n",
       "     <game_config.Round_play at 0x111255860>,\n",
       "     <game_config.Round_play at 0x111255940>,\n",
       "     <game_config.Round_play at 0x1112559e8>,\n",
       "     <game_config.Round_play at 0x111255a90>,\n",
       "     <game_config.Round_play at 0x111255ba8>,\n",
       "     <game_config.Round_play at 0x111255c50>,\n",
       "     <game_config.Round_play at 0x111255d68>,\n",
       "     <game_config.Round_play at 0x111255e10>,\n",
       "     <game_config.Round_play at 0x111255eb8>,\n",
       "     <game_config.Round_play at 0x111255f98>,\n",
       "     <game_config.Round_play at 0x1112610b8>,\n",
       "     <game_config.Round_play at 0x111261160>,\n",
       "     <game_config.Round_play at 0x111261208>,\n",
       "     <game_config.Round_play at 0x1112612e8>,\n",
       "     <game_config.Round_play at 0x1112613c8>,\n",
       "     <game_config.Round_play at 0x111261470>,\n",
       "     <game_config.Round_play at 0x111261550>,\n",
       "     <game_config.Round_play at 0x1112615f8>,\n",
       "     <game_config.Round_play at 0x111261710>,\n",
       "     <game_config.Round_play at 0x1112617f0>,\n",
       "     <game_config.Round_play at 0x1112618d0>,\n",
       "     <game_config.Round_play at 0x111261978>,\n",
       "     <game_config.Round_play at 0x111261a58>,\n",
       "     <game_config.Round_play at 0x111261b00>,\n",
       "     <game_config.Round_play at 0x111261ba8>,\n",
       "     <game_config.Round_play at 0x111261c50>,\n",
       "     <game_config.Round_play at 0x111261d30>,\n",
       "     <game_config.Round_play at 0x111261e10>,\n",
       "     <game_config.Round_play at 0x111261eb8>,\n",
       "     <game_config.Round_play at 0x111261f98>,\n",
       "     <game_config.Round_play at 0x11126d080>,\n",
       "     <game_config.Round_play at 0x11126d128>,\n",
       "     <game_config.Round_play at 0x11126d1d0>,\n",
       "     <game_config.Round_play at 0x11126d278>,\n",
       "     <game_config.Round_play at 0x11126d358>,\n",
       "     <game_config.Round_play at 0x11126d470>,\n",
       "     <game_config.Round_play at 0x11126d588>,\n",
       "     <game_config.Round_play at 0x11126d630>,\n",
       "     <game_config.Round_play at 0x11126d710>,\n",
       "     <game_config.Round_play at 0x11126d7b8>,\n",
       "     <game_config.Round_play at 0x11126d860>,\n",
       "     <game_config.Round_play at 0x11126d908>,\n",
       "     <game_config.Round_play at 0x11126d9b0>,\n",
       "     <game_config.Round_play at 0x11126da58>,\n",
       "     <game_config.Round_play at 0x11126db00>,\n",
       "     <game_config.Round_play at 0x11126dc50>,\n",
       "     <game_config.Round_play at 0x11126dcf8>,\n",
       "     <game_config.Round_play at 0x11126dda0>,\n",
       "     <game_config.Round_play at 0x11126de48>,\n",
       "     <game_config.Round_play at 0x11126def0>,\n",
       "     <game_config.Round_play at 0x11126df98>,\n",
       "     <game_config.Round_play at 0x1112790f0>,\n",
       "     <game_config.Round_play at 0x111279208>,\n",
       "     <game_config.Round_play at 0x1112792b0>,\n",
       "     <game_config.Round_play at 0x111279358>,\n",
       "     <game_config.Round_play at 0x111279438>,\n",
       "     <game_config.Round_play at 0x1112794e0>,\n",
       "     <game_config.Round_play at 0x111279588>,\n",
       "     <game_config.Round_play at 0x111279630>,\n",
       "     <game_config.Round_play at 0x1112796d8>,\n",
       "     <game_config.Round_play at 0x111279780>,\n",
       "     <game_config.Round_play at 0x111279860>,\n",
       "     <game_config.Round_play at 0x111279908>,\n",
       "     <game_config.Round_play at 0x1112799b0>,\n",
       "     <game_config.Round_play at 0x111279a58>,\n",
       "     <game_config.Round_play at 0x111279b00>,\n",
       "     <game_config.Round_play at 0x111279ba8>,\n",
       "     <game_config.Round_play at 0x111279c88>,\n",
       "     <game_config.Round_play at 0x111279d68>,\n",
       "     <game_config.Round_play at 0x111279e10>,\n",
       "     <game_config.Round_play at 0x111279eb8>,\n",
       "     <game_config.Round_play at 0x111279f60>,\n",
       "     <game_config.Round_play at 0x111287048>,\n",
       "     <game_config.Round_play at 0x1112870f0>,\n",
       "     <game_config.Round_play at 0x1112871d0>,\n",
       "     <game_config.Round_play at 0x111287278>,\n",
       "     <game_config.Round_play at 0x111287358>,\n",
       "     <game_config.Round_play at 0x111287400>,\n",
       "     <game_config.Round_play at 0x1112874e0>,\n",
       "     <game_config.Round_play at 0x111287588>,\n",
       "     <game_config.Round_play at 0x111287630>,\n",
       "     <game_config.Round_play at 0x111287748>,\n",
       "     <game_config.Round_play at 0x111287860>,\n",
       "     <game_config.Round_play at 0x111287940>,\n",
       "     <game_config.Round_play at 0x111287a58>,\n",
       "     <game_config.Round_play at 0x111287b00>,\n",
       "     <game_config.Round_play at 0x111287c18>,\n",
       "     <game_config.Round_play at 0x111287cc0>,\n",
       "     <game_config.Round_play at 0x111287d68>,\n",
       "     <game_config.Round_play at 0x111287e10>,\n",
       "     <game_config.Round_play at 0x111287f28>,\n",
       "     <game_config.Round_play at 0x111287fd0>,\n",
       "     <game_config.Round_play at 0x1112930f0>,\n",
       "     <game_config.Round_play at 0x1112931d0>,\n",
       "     <game_config.Round_play at 0x1112932b0>,\n",
       "     <game_config.Round_play at 0x111293390>,\n",
       "     <game_config.Round_play at 0x111293438>,\n",
       "     <game_config.Round_play at 0x1112934e0>,\n",
       "     <game_config.Round_play at 0x1112935c0>,\n",
       "     <game_config.Round_play at 0x111293668>,\n",
       "     <game_config.Round_play at 0x111293710>,\n",
       "     <game_config.Round_play at 0x1112937b8>,\n",
       "     <game_config.Round_play at 0x111293860>,\n",
       "     <game_config.Round_play at 0x111293908>,\n",
       "     <game_config.Round_play at 0x1112939b0>,\n",
       "     <game_config.Round_play at 0x111293a58>,\n",
       "     <game_config.Round_play at 0x111293b00>,\n",
       "     <game_config.Round_play at 0x111293be0>,\n",
       "     <game_config.Round_play at 0x111293cc0>,\n",
       "     <game_config.Round_play at 0x111293d68>,\n",
       "     <game_config.Round_play at 0x111293e48>,\n",
       "     <game_config.Round_play at 0x111293ef0>,\n",
       "     <game_config.Round_play at 0x111293f98>,\n",
       "     <game_config.Round_play at 0x11129f0f0>,\n",
       "     <game_config.Round_play at 0x11129f198>,\n",
       "     <game_config.Round_play at 0x11129f240>,\n",
       "     <game_config.Round_play at 0x11129f2e8>,\n",
       "     <game_config.Round_play at 0x11129f400>,\n",
       "     <game_config.Round_play at 0x11129f4e0>,\n",
       "     <game_config.Round_play at 0x11129f5c0>,\n",
       "     <game_config.Round_play at 0x11129f668>,\n",
       "     <game_config.Round_play at 0x11129f748>,\n",
       "     <game_config.Round_play at 0x11129f828>,\n",
       "     <game_config.Round_play at 0x11129f908>,\n",
       "     <game_config.Round_play at 0x11129f9b0>,\n",
       "     <game_config.Round_play at 0x11129fa90>,\n",
       "     <game_config.Round_play at 0x11129fb38>,\n",
       "     <game_config.Round_play at 0x11129fbe0>,\n",
       "     <game_config.Round_play at 0x11129fcf8>,\n",
       "     <game_config.Round_play at 0x11129fdd8>,\n",
       "     <game_config.Round_play at 0x11129fe80>,\n",
       "     <game_config.Round_play at 0x11129ff28>,\n",
       "     <game_config.Round_play at 0x11129ffd0>,\n",
       "     <game_config.Round_play at 0x1112ac0f0>,\n",
       "     <game_config.Round_play at 0x1112ac198>,\n",
       "     <game_config.Round_play at 0x1112ac240>,\n",
       "     <game_config.Round_play at 0x1112ac2e8>,\n",
       "     <game_config.Round_play at 0x1112ac390>,\n",
       "     <game_config.Round_play at 0x1112ac438>,\n",
       "     <game_config.Round_play at 0x1112ac518>,\n",
       "     <game_config.Round_play at 0x1112ac5c0>,\n",
       "     <game_config.Round_play at 0x1112ac668>,\n",
       "     <game_config.Round_play at 0x1112ac710>,\n",
       "     <game_config.Round_play at 0x1112ac7b8>,\n",
       "     <game_config.Round_play at 0x1112ac898>,\n",
       "     <game_config.Round_play at 0x1112ac940>,\n",
       "     <game_config.Round_play at 0x1112ac9e8>,\n",
       "     <game_config.Round_play at 0x1112acac8>,\n",
       "     <game_config.Round_play at 0x1112acba8>,\n",
       "     <game_config.Round_play at 0x1112acc88>,\n",
       "     <game_config.Round_play at 0x1112acd68>,\n",
       "     <game_config.Round_play at 0x1112ace48>,\n",
       "     <game_config.Round_play at 0x1112acef0>,\n",
       "     <game_config.Round_play at 0x1112acf98>,\n",
       "     <game_config.Round_play at 0x1112ba080>,\n",
       "     <game_config.Round_play at 0x1112ba160>,\n",
       "     <game_config.Round_play at 0x1112ba278>,\n",
       "     <game_config.Round_play at 0x1112ba320>,\n",
       "     <game_config.Round_play at 0x1112ba3c8>,\n",
       "     <game_config.Round_play at 0x1112ba470>,\n",
       "     <game_config.Round_play at 0x1112ba588>,\n",
       "     <game_config.Round_play at 0x1112ba668>,\n",
       "     <game_config.Round_play at 0x1112ba748>,\n",
       "     <game_config.Round_play at 0x1112ba828>,\n",
       "     <game_config.Round_play at 0x1112ba8d0>,\n",
       "     <game_config.Round_play at 0x1112ba978>,\n",
       "     <game_config.Round_play at 0x1112baa20>,\n",
       "     <game_config.Round_play at 0x1112bab00>,\n",
       "     <game_config.Round_play at 0x1112babe0>,\n",
       "     <game_config.Round_play at 0x1112bac88>,\n",
       "     <game_config.Round_play at 0x1112bada0>,\n",
       "     <game_config.Round_play at 0x1112bae48>,\n",
       "     <game_config.Round_play at 0x1112baef0>,\n",
       "     <game_config.Round_play at 0x1112baf98>,\n",
       "     <game_config.Round_play at 0x1112c60f0>,\n",
       "     <game_config.Round_play at 0x1112c6198>,\n",
       "     <game_config.Round_play at 0x1112c6240>,\n",
       "     <game_config.Round_play at 0x1112c62e8>,\n",
       "     <game_config.Round_play at 0x1112c63c8>,\n",
       "     <game_config.Round_play at 0x1112c6470>,\n",
       "     <game_config.Round_play at 0x1112c6588>,\n",
       "     <game_config.Round_play at 0x1112c6630>,\n",
       "     <game_config.Round_play at 0x1112c6710>,\n",
       "     <game_config.Round_play at 0x1112c67b8>,\n",
       "     <game_config.Round_play at 0x1112c6860>,\n",
       "     <game_config.Round_play at 0x1112c6908>,\n",
       "     <game_config.Round_play at 0x1112c69e8>,\n",
       "     <game_config.Round_play at 0x1112c6ac8>,\n",
       "     <game_config.Round_play at 0x1112c6ba8>,\n",
       "     <game_config.Round_play at 0x1112c6c88>,\n",
       "     <game_config.Round_play at 0x1112c6d68>,\n",
       "     <game_config.Round_play at 0x1112c6e80>,\n",
       "     <game_config.Round_play at 0x1112c6f28>,\n",
       "     <game_config.Round_play at 0x1112d2048>,\n",
       "     <game_config.Round_play at 0x1112d2128>,\n",
       "     <game_config.Round_play at 0x1112d2240>,\n",
       "     <game_config.Round_play at 0x1112d22e8>,\n",
       "     <game_config.Round_play at 0x1112d2390>,\n",
       "     <game_config.Round_play at 0x1112d24a8>,\n",
       "     <game_config.Round_play at 0x1112d2550>,\n",
       "     <game_config.Round_play at 0x1112d25f8>,\n",
       "     <game_config.Round_play at 0x1112d26a0>,\n",
       "     <game_config.Round_play at 0x1112d2748>,\n",
       "     <game_config.Round_play at 0x1112d2828>,\n",
       "     <game_config.Round_play at 0x1112d28d0>,\n",
       "     <game_config.Round_play at 0x1112d29b0>,\n",
       "     <game_config.Round_play at 0x1112d2a58>,\n",
       "     <game_config.Round_play at 0x1112d2b00>,\n",
       "     <game_config.Round_play at 0x1112d2ba8>,\n",
       "     <game_config.Round_play at 0x1112d2c88>,\n",
       "     <game_config.Round_play at 0x1112d2d30>,\n",
       "     <game_config.Round_play at 0x1112d2dd8>,\n",
       "     <game_config.Round_play at 0x1112d2ef0>,\n",
       "     <game_config.Round_play at 0x1112d2fd0>,\n",
       "     <game_config.Round_play at 0x1112df0b8>,\n",
       "     <game_config.Round_play at 0x1112df198>,\n",
       "     <game_config.Round_play at 0x1112df278>,\n",
       "     <game_config.Round_play at 0x1112df320>,\n",
       "     <game_config.Round_play at 0x1112df3c8>,\n",
       "     <game_config.Round_play at 0x1112df4a8>,\n",
       "     <game_config.Round_play at 0x1112df550>,\n",
       "     <game_config.Round_play at 0x1112df5f8>,\n",
       "     <game_config.Round_play at 0x1112df6a0>,\n",
       "     <game_config.Round_play at 0x1112df780>,\n",
       "     <game_config.Round_play at 0x1112df828>,\n",
       "     <game_config.Round_play at 0x1112df940>,\n",
       "     <game_config.Round_play at 0x1112df9e8>,\n",
       "     <game_config.Round_play at 0x1112dfa90>,\n",
       "     <game_config.Round_play at 0x1112dfb70>,\n",
       "     <game_config.Round_play at 0x1112dfc50>,\n",
       "     <game_config.Round_play at 0x1112dfcf8>,\n",
       "     <game_config.Round_play at 0x1112dfdd8>,\n",
       "     <game_config.Round_play at 0x1112dfeb8>,\n",
       "     <game_config.Round_play at 0x1112dff98>,\n",
       "     <game_config.Round_play at 0x1112ea080>,\n",
       "     <game_config.Round_play at 0x1112ea128>,\n",
       "     <game_config.Round_play at 0x1112ea1d0>,\n",
       "     <game_config.Round_play at 0x1112ea2b0>,\n",
       "     <game_config.Round_play at 0x1112ea390>,\n",
       "     <game_config.Round_play at 0x1112ea470>,\n",
       "     <game_config.Round_play at 0x1112ea550>,\n",
       "     <game_config.Round_play at 0x1112ea630>,\n",
       "     <game_config.Round_play at 0x1112ea6d8>,\n",
       "     <game_config.Round_play at 0x1112ea780>,\n",
       "     <game_config.Round_play at 0x1112ea828>,\n",
       "     <game_config.Round_play at 0x1112ea8d0>,\n",
       "     <game_config.Round_play at 0x1112ea9b0>,\n",
       "     <game_config.Round_play at 0x1112eaa58>,\n",
       "     <game_config.Round_play at 0x1112eab38>,\n",
       "     <game_config.Round_play at 0x1112eabe0>,\n",
       "     <game_config.Round_play at 0x1112eac88>,\n",
       "     <game_config.Round_play at 0x1112ead68>,\n",
       "     <game_config.Round_play at 0x1112eae48>,\n",
       "     <game_config.Round_play at 0x1112eaf28>,\n",
       "     <game_config.Round_play at 0x1112f7080>,\n",
       "     <game_config.Round_play at 0x1112f7128>,\n",
       "     <game_config.Round_play at 0x1112f7208>,\n",
       "     <game_config.Round_play at 0x1112f72b0>,\n",
       "     <game_config.Round_play at 0x1112f7390>,\n",
       "     <game_config.Round_play at 0x1112f7438>,\n",
       "     <game_config.Round_play at 0x1112f74e0>,\n",
       "     <game_config.Round_play at 0x1112f75c0>,\n",
       "     <game_config.Round_play at 0x1112f76d8>,\n",
       "     <game_config.Round_play at 0x1112f7780>,\n",
       "     <game_config.Round_play at 0x1112f7828>,\n",
       "     <game_config.Round_play at 0x1112f7908>,\n",
       "     <game_config.Round_play at 0x1112f79b0>,\n",
       "     <game_config.Round_play at 0x1112f7a58>,\n",
       "     <game_config.Round_play at 0x1112f7b00>,\n",
       "     <game_config.Round_play at 0x1112f7c18>,\n",
       "     <game_config.Round_play at 0x1112f7cc0>,\n",
       "     <game_config.Round_play at 0x1112f7da0>,\n",
       "     <game_config.Round_play at 0x1112f7e48>,\n",
       "     <game_config.Round_play at 0x1112f7ef0>,\n",
       "     <game_config.Round_play at 0x1112f7fd0>,\n",
       "     <game_config.Round_play at 0x1113050b8>,\n",
       "     <game_config.Round_play at 0x111305198>,\n",
       "     <game_config.Round_play at 0x111305278>,\n",
       "     <game_config.Round_play at 0x111305320>,\n",
       "     <game_config.Round_play at 0x1113053c8>,\n",
       "     <game_config.Round_play at 0x111305470>,\n",
       "     <game_config.Round_play at 0x111305518>,\n",
       "     <game_config.Round_play at 0x1113055c0>,\n",
       "     <game_config.Round_play at 0x111305668>,\n",
       "     <game_config.Round_play at 0x111305710>,\n",
       "     <game_config.Round_play at 0x1113057b8>,\n",
       "     <game_config.Round_play at 0x111305860>,\n",
       "     <game_config.Round_play at 0x111305940>,\n",
       "     <game_config.Round_play at 0x111305a20>,\n",
       "     <game_config.Round_play at 0x111305ac8>,\n",
       "     <game_config.Round_play at 0x111305b70>,\n",
       "     <game_config.Round_play at 0x111305c50>,\n",
       "     <game_config.Round_play at 0x111305d30>,\n",
       "     <game_config.Round_play at 0x111305e10>,\n",
       "     <game_config.Round_play at 0x111305eb8>,\n",
       "     <game_config.Round_play at 0x111305f60>,\n",
       "     <game_config.Round_play at 0x111312080>,\n",
       "     <game_config.Round_play at 0x111312160>,\n",
       "     <game_config.Round_play at 0x111312240>,\n",
       "     <game_config.Round_play at 0x1113122e8>,\n",
       "     <game_config.Round_play at 0x1113123c8>,\n",
       "     <game_config.Round_play at 0x1113124e0>,\n",
       "     <game_config.Round_play at 0x1113125c0>,\n",
       "     <game_config.Round_play at 0x1113126a0>,\n",
       "     <game_config.Round_play at 0x111312748>,\n",
       "     <game_config.Round_play at 0x1113127f0>,\n",
       "     <game_config.Round_play at 0x1113128d0>,\n",
       "     <game_config.Round_play at 0x1113129b0>,\n",
       "     <game_config.Round_play at 0x111312ac8>,\n",
       "     <game_config.Round_play at 0x111312ba8>,\n",
       "     <game_config.Round_play at 0x111312cc0>,\n",
       "     <game_config.Round_play at 0x111312da0>,\n",
       "     <game_config.Round_play at 0x111312e48>,\n",
       "     <game_config.Round_play at 0x111312f60>,\n",
       "     <game_config.Round_play at 0x11131e080>,\n",
       "     <game_config.Round_play at 0x11131e128>,\n",
       "     <game_config.Round_play at 0x11131e208>,\n",
       "     <game_config.Round_play at 0x11131e2b0>,\n",
       "     <game_config.Round_play at 0x11131e390>,\n",
       "     <game_config.Round_play at 0x11131e470>,\n",
       "     <game_config.Round_play at 0x11131e588>,\n",
       "     <game_config.Round_play at 0x11131e630>,\n",
       "     <game_config.Round_play at 0x11131e6d8>,\n",
       "     <game_config.Round_play at 0x11131e7f0>,\n",
       "     <game_config.Round_play at 0x11131e898>,\n",
       "     <game_config.Round_play at 0x11131e978>,\n",
       "     <game_config.Round_play at 0x11131ea20>,\n",
       "     <game_config.Round_play at 0x11131eac8>,\n",
       "     <game_config.Round_play at 0x11131eba8>,\n",
       "     <game_config.Round_play at 0x11131ec88>,\n",
       "     <game_config.Round_play at 0x11131ed68>,\n",
       "     <game_config.Round_play at 0x11131ee80>,\n",
       "     <game_config.Round_play at 0x11131ef28>,\n",
       "     <game_config.Round_play at 0x11131efd0>,\n",
       "     <game_config.Round_play at 0x1113280b8>,\n",
       "     <game_config.Round_play at 0x111328160>,\n",
       "     <game_config.Round_play at 0x111328208>,\n",
       "     <game_config.Round_play at 0x1113282e8>,\n",
       "     <game_config.Round_play at 0x111328390>,\n",
       "     <game_config.Round_play at 0x111328438>,\n",
       "     <game_config.Round_play at 0x1113284e0>,\n",
       "     <game_config.Round_play at 0x1113285c0>,\n",
       "     <game_config.Round_play at 0x111328668>,\n",
       "     <game_config.Round_play at 0x111328710>,\n",
       "     <game_config.Round_play at 0x1113287f0>,\n",
       "     <game_config.Round_play at 0x1113288d0>,\n",
       "     <game_config.Round_play at 0x111328978>,\n",
       "     <game_config.Round_play at 0x111328a58>,\n",
       "     <game_config.Round_play at 0x111328b00>,\n",
       "     <game_config.Round_play at 0x111328be0>,\n",
       "     <game_config.Round_play at 0x111328c88>,\n",
       "     <game_config.Round_play at 0x111328d30>,\n",
       "     <game_config.Round_play at 0x111328dd8>,\n",
       "     <game_config.Round_play at 0x111328ef0>,\n",
       "     <game_config.Round_play at 0x111328f98>,\n",
       "     <game_config.Round_play at 0x111336080>,\n",
       "     <game_config.Round_play at 0x111336128>,\n",
       "     <game_config.Round_play at 0x111336208>,\n",
       "     <game_config.Round_play at 0x1113362b0>,\n",
       "     <game_config.Round_play at 0x111336390>,\n",
       "     <game_config.Round_play at 0x111336470>,\n",
       "     <game_config.Round_play at 0x111336518>,\n",
       "     <game_config.Round_play at 0x1113365c0>,\n",
       "     <game_config.Round_play at 0x1113366a0>,\n",
       "     <game_config.Round_play at 0x111336780>,\n",
       "     <game_config.Round_play at 0x111336828>,\n",
       "     <game_config.Round_play at 0x1113368d0>,\n",
       "     <game_config.Round_play at 0x111336978>,\n",
       "     <game_config.Round_play at 0x111336a20>,\n",
       "     <game_config.Round_play at 0x111336b00>,\n",
       "     <game_config.Round_play at 0x111336be0>,\n",
       "     <game_config.Round_play at 0x111336c88>,\n",
       "     <game_config.Round_play at 0x111336da0>,\n",
       "     <game_config.Round_play at 0x111336e48>,\n",
       "     <game_config.Round_play at 0x111336f28>,\n",
       "     <game_config.Round_play at 0x111342048>,\n",
       "     <game_config.Round_play at 0x111342128>,\n",
       "     <game_config.Round_play at 0x111342208>,\n",
       "     <game_config.Round_play at 0x111342320>,\n",
       "     <game_config.Round_play at 0x1113423c8>,\n",
       "     <game_config.Round_play at 0x111342470>,\n",
       "     <game_config.Round_play at 0x111342518>,\n",
       "     <game_config.Round_play at 0x1113425c0>,\n",
       "     <game_config.Round_play at 0x1113426a0>,\n",
       "     <game_config.Round_play at 0x111342780>,\n",
       "     <game_config.Round_play at 0x111342828>,\n",
       "     <game_config.Round_play at 0x1113428d0>,\n",
       "     <game_config.Round_play at 0x1113429e8>,\n",
       "     <game_config.Round_play at 0x111342b00>,\n",
       "     <game_config.Round_play at 0x111342be0>,\n",
       "     <game_config.Round_play at 0x111342c88>,\n",
       "     <game_config.Round_play at 0x111342d30>,\n",
       "     <game_config.Round_play at 0x111342e10>,\n",
       "     <game_config.Round_play at 0x111342ef0>,\n",
       "     <game_config.Round_play at 0x111342f98>,\n",
       "     <game_config.Round_play at 0x11134e0b8>,\n",
       "     <game_config.Round_play at 0x11134e198>,\n",
       "     <game_config.Round_play at 0x11134e278>,\n",
       "     <game_config.Round_play at 0x11134e320>,\n",
       "     <game_config.Round_play at 0x11134e3c8>,\n",
       "     <game_config.Round_play at 0x11134e4a8>,\n",
       "     <game_config.Round_play at 0x11134e550>,\n",
       "     <game_config.Round_play at 0x11134e5f8>,\n",
       "     <game_config.Round_play at 0x11134e710>,\n",
       "     <game_config.Round_play at 0x11134e7b8>,\n",
       "     <game_config.Round_play at 0x11134e860>,\n",
       "     <game_config.Round_play at 0x11134e908>,\n",
       "     <game_config.Round_play at 0x11134e9b0>,\n",
       "     <game_config.Round_play at 0x11134ea58>,\n",
       "     <game_config.Round_play at 0x11134eb38>,\n",
       "     <game_config.Round_play at 0x11134ebe0>,\n",
       "     <game_config.Round_play at 0x11134ecc0>,\n",
       "     <game_config.Round_play at 0x11134eda0>,\n",
       "     <game_config.Round_play at 0x11134eeb8>,\n",
       "     <game_config.Round_play at 0x11134ef60>,\n",
       "     <game_config.Round_play at 0x11135b048>,\n",
       "     <game_config.Round_play at 0x11135b0f0>,\n",
       "     <game_config.Round_play at 0x11135b198>,\n",
       "     <game_config.Round_play at 0x11135b240>,\n",
       "     <game_config.Round_play at 0x11135b320>,\n",
       "     <game_config.Round_play at 0x11135b3c8>,\n",
       "     <game_config.Round_play at 0x11135b4a8>,\n",
       "     <game_config.Round_play at 0x11135b588>,\n",
       "     <game_config.Round_play at 0x11135b630>,\n",
       "     <game_config.Round_play at 0x11135b6d8>,\n",
       "     <game_config.Round_play at 0x11135b780>,\n",
       "     <game_config.Round_play at 0x11135b828>,\n",
       "     <game_config.Round_play at 0x11135b908>,\n",
       "     <game_config.Round_play at 0x11135b9b0>,\n",
       "     <game_config.Round_play at 0x11135ba58>,\n",
       "     <game_config.Round_play at 0x11135bb38>,\n",
       "     <game_config.Round_play at 0x11135bbe0>,\n",
       "     <game_config.Round_play at 0x11135bcc0>,\n",
       "     <game_config.Round_play at 0x11135bd68>,\n",
       "     <game_config.Round_play at 0x11135be48>,\n",
       "     <game_config.Round_play at 0x11135bef0>,\n",
       "     <game_config.Round_play at 0x11135bfd0>,\n",
       "     <game_config.Round_play at 0x1113680f0>,\n",
       "     <game_config.Round_play at 0x111368198>,\n",
       "     <game_config.Round_play at 0x111368240>,\n",
       "     <game_config.Round_play at 0x1113682e8>,\n",
       "     <game_config.Round_play at 0x111368390>,\n",
       "     <game_config.Round_play at 0x111368438>,\n",
       "     <game_config.Round_play at 0x111368518>,\n",
       "     <game_config.Round_play at 0x1113685c0>,\n",
       "     <game_config.Round_play at 0x1113686a0>,\n",
       "     <game_config.Round_play at 0x111368780>,\n",
       "     <game_config.Round_play at 0x111368860>,\n",
       "     <game_config.Round_play at 0x111368908>,\n",
       "     <game_config.Round_play at 0x1113689b0>,\n",
       "     <game_config.Round_play at 0x111368a58>,\n",
       "     <game_config.Round_play at 0x111368b38>,\n",
       "     <game_config.Round_play at 0x111368be0>,\n",
       "     <game_config.Round_play at 0x111368c88>,\n",
       "     <game_config.Round_play at 0x111368d68>,\n",
       "     <game_config.Round_play at 0x111368e80>,\n",
       "     <game_config.Round_play at 0x111368f60>,\n",
       "     <game_config.Round_play at 0x111375080>,\n",
       "     <game_config.Round_play at 0x111375128>,\n",
       "     <game_config.Round_play at 0x1113751d0>,\n",
       "     <game_config.Round_play at 0x1113752b0>,\n",
       "     <game_config.Round_play at 0x111375358>,\n",
       "     <game_config.Round_play at 0x111375470>,\n",
       "     <game_config.Round_play at 0x111375550>,\n",
       "     <game_config.Round_play at 0x111375630>,\n",
       "     <game_config.Round_play at 0x111375710>,\n",
       "     <game_config.Round_play at 0x1113757b8>,\n",
       "     <game_config.Round_play at 0x111375898>,\n",
       "     <game_config.Round_play at 0x111375940>,\n",
       "     <game_config.Round_play at 0x1113759e8>,\n",
       "     <game_config.Round_play at 0x111375a90>,\n",
       "     <game_config.Round_play at 0x111375ba8>,\n",
       "     <game_config.Round_play at 0x111375c50>,\n",
       "     <game_config.Round_play at 0x111375cf8>,\n",
       "     <game_config.Round_play at 0x111375da0>,\n",
       "     <game_config.Round_play at 0x111375e48>,\n",
       "     <game_config.Round_play at 0x111375f28>,\n",
       "     <game_config.Round_play at 0x111375fd0>,\n",
       "     <game_config.Round_play at 0x1113820b8>,\n",
       "     <game_config.Round_play at 0x111382160>,\n",
       "     <game_config.Round_play at 0x111382240>,\n",
       "     <game_config.Round_play at 0x111382320>,\n",
       "     <game_config.Round_play at 0x111382438>,\n",
       "     <game_config.Round_play at 0x111382518>,\n",
       "     <game_config.Round_play at 0x1113825f8>,\n",
       "     <game_config.Round_play at 0x1113826a0>,\n",
       "     <game_config.Round_play at 0x111382748>,\n",
       "     <game_config.Round_play at 0x111382828>,\n",
       "     <game_config.Round_play at 0x1113828d0>,\n",
       "     <game_config.Round_play at 0x1113829e8>,\n",
       "     <game_config.Round_play at 0x111382a90>,\n",
       "     <game_config.Round_play at 0x111382b70>,\n",
       "     <game_config.Round_play at 0x111382c50>,\n",
       "     <game_config.Round_play at 0x111382d30>,\n",
       "     <game_config.Round_play at 0x111382dd8>,\n",
       "     <game_config.Round_play at 0x111382e80>,\n",
       "     <game_config.Round_play at 0x111382f28>,\n",
       "     <game_config.Round_play at 0x111382fd0>,\n",
       "     <game_config.Round_play at 0x11138e0b8>,\n",
       "     <game_config.Round_play at 0x11138e198>,\n",
       "     <game_config.Round_play at 0x11138e240>,\n",
       "     <game_config.Round_play at 0x11138e358>,\n",
       "     <game_config.Round_play at 0x11138e400>,\n",
       "     <game_config.Round_play at 0x11138e4a8>,\n",
       "     <game_config.Round_play at 0x11138e588>,\n",
       "     <game_config.Round_play at 0x11138e630>,\n",
       "     <game_config.Round_play at 0x11138e6d8>,\n",
       "     <game_config.Round_play at 0x11138e780>,\n",
       "     <game_config.Round_play at 0x11138e860>,\n",
       "     <game_config.Round_play at 0x11138e908>,\n",
       "     <game_config.Round_play at 0x11138e9e8>,\n",
       "     <game_config.Round_play at 0x11138ea90>,\n",
       "     <game_config.Round_play at 0x11138eb38>,\n",
       "     <game_config.Round_play at 0x11138ebe0>,\n",
       "     <game_config.Round_play at 0x11138ecc0>,\n",
       "     <game_config.Round_play at 0x11138eda0>,\n",
       "     <game_config.Round_play at 0x11138ee48>,\n",
       "     <game_config.Round_play at 0x11138ef28>,\n",
       "     <game_config.Round_play at 0x11139c080>,\n",
       "     <game_config.Round_play at 0x11139c128>,\n",
       "     <game_config.Round_play at 0x11139c1d0>,\n",
       "     <game_config.Round_play at 0x11139c278>,\n",
       "     <game_config.Round_play at 0x11139c320>,\n",
       "     <game_config.Round_play at 0x11139c400>,\n",
       "     <game_config.Round_play at 0x11139c4a8>,\n",
       "     <game_config.Round_play at 0x11139c550>,\n",
       "     <game_config.Round_play at 0x11139c5f8>,\n",
       "     <game_config.Round_play at 0x11139c6a0>,\n",
       "     <game_config.Round_play at 0x11139c748>,\n",
       "     <game_config.Round_play at 0x11139c7f0>,\n",
       "     <game_config.Round_play at 0x11139c8d0>,\n",
       "     <game_config.Round_play at 0x11139c9e8>,\n",
       "     <game_config.Round_play at 0x11139ca90>,\n",
       "     <game_config.Round_play at 0x11139cb70>,\n",
       "     <game_config.Round_play at 0x11139cc18>,\n",
       "     <game_config.Round_play at 0x11139ccf8>,\n",
       "     <game_config.Round_play at 0x11139cdd8>,\n",
       "     <game_config.Round_play at 0x11139ceb8>,\n",
       "     <game_config.Round_play at 0x11139cf60>,\n",
       "     <game_config.Round_play at 0x1113a8080>,\n",
       "     <game_config.Round_play at 0x1113a8128>,\n",
       "     <game_config.Round_play at 0x1113a81d0>,\n",
       "     <game_config.Round_play at 0x1113a8278>,\n",
       "     <game_config.Round_play at 0x1113a8358>,\n",
       "     <game_config.Round_play at 0x1113a8400>,\n",
       "     <game_config.Round_play at 0x1113a84a8>,\n",
       "     <game_config.Round_play at 0x1113a85c0>,\n",
       "     <game_config.Round_play at 0x1113a86a0>,\n",
       "     <game_config.Round_play at 0x1113a8780>,\n",
       "     <game_config.Round_play at 0x1113a8828>,\n",
       "     <game_config.Round_play at 0x1113a8908>,\n",
       "     <game_config.Round_play at 0x1113a89b0>,\n",
       "     <game_config.Round_play at 0x1113a8a58>,\n",
       "     <game_config.Round_play at 0x1113a8b00>,\n",
       "     <game_config.Round_play at 0x1113a8be0>,\n",
       "     <game_config.Round_play at 0x1113a8c88>,\n",
       "     <game_config.Round_play at 0x1113a8d30>,\n",
       "     <game_config.Round_play at 0x1113a8dd8>,\n",
       "     <game_config.Round_play at 0x1113a8eb8>,\n",
       "     <game_config.Round_play at 0x1113a8f60>,\n",
       "     <game_config.Round_play at 0x1113b5048>,\n",
       "     <game_config.Round_play at 0x1113b5128>,\n",
       "     <game_config.Round_play at 0x1113b51d0>,\n",
       "     <game_config.Round_play at 0x1113b52b0>,\n",
       "     <game_config.Round_play at 0x1113b5358>,\n",
       "     <game_config.Round_play at 0x1113b5400>,\n",
       "     <game_config.Round_play at 0x1113b54e0>,\n",
       "     <game_config.Round_play at 0x1113b5588>,\n",
       "     <game_config.Round_play at 0x1113b5668>,\n",
       "     <game_config.Round_play at 0x1113b5748>,\n",
       "     <game_config.Round_play at 0x1113b57f0>,\n",
       "     <game_config.Round_play at 0x1113b5898>,\n",
       "     <game_config.Round_play at 0x1113b5978>,\n",
       "     <game_config.Round_play at 0x1113b5a58>,\n",
       "     <game_config.Round_play at 0x1113b5b00>,\n",
       "     <game_config.Round_play at 0x1113b5ba8>,\n",
       "     <game_config.Round_play at 0x1113b5c50>,\n",
       "     <game_config.Round_play at 0x1113b5cf8>,\n",
       "     <game_config.Round_play at 0x1113b5dd8>,\n",
       "     <game_config.Round_play at 0x1113b5eb8>,\n",
       "     <game_config.Round_play at 0x1113b5f60>,\n",
       "     <game_config.Round_play at 0x1113c3048>,\n",
       "     <game_config.Round_play at 0x1113c30f0>,\n",
       "     <game_config.Round_play at 0x1113c3198>,\n",
       "     <game_config.Round_play at 0x1113c3278>,\n",
       "     <game_config.Round_play at 0x1113c3358>,\n",
       "     <game_config.Round_play at 0x1113c3400>,\n",
       "     <game_config.Round_play at 0x1113c34e0>,\n",
       "     <game_config.Round_play at 0x1113c3588>,\n",
       "     <game_config.Round_play at 0x1113c3630>,\n",
       "     <game_config.Round_play at 0x1113c3710>,\n",
       "     <game_config.Round_play at 0x1113c37f0>,\n",
       "     <game_config.Round_play at 0x1113c38d0>,\n",
       "     <game_config.Round_play at 0x1113c3978>,\n",
       "     <game_config.Round_play at 0x1113c3a20>,\n",
       "     <game_config.Round_play at 0x1113c3b00>,\n",
       "     <game_config.Round_play at 0x1113c3be0>,\n",
       "     <game_config.Round_play at 0x1113c3c88>,\n",
       "     <game_config.Round_play at 0x1113c3d30>,\n",
       "     <game_config.Round_play at 0x1113c3e48>,\n",
       "     <game_config.Round_play at 0x1113c3ef0>,\n",
       "     <game_config.Round_play at 0x1113c3f98>,\n",
       "     <game_config.Round_play at 0x1113ce080>,\n",
       "     <game_config.Round_play at 0x1113ce128>,\n",
       "     <game_config.Round_play at 0x1113ce208>,\n",
       "     <game_config.Round_play at 0x1113ce2b0>,\n",
       "     <game_config.Round_play at 0x1113ce390>,\n",
       "     <game_config.Round_play at 0x1113ce470>,\n",
       "     <game_config.Round_play at 0x1113ce518>,\n",
       "     <game_config.Round_play at 0x1113ce5c0>,\n",
       "     <game_config.Round_play at 0x1113ce6d8>,\n",
       "     <game_config.Round_play at 0x1113ce780>,\n",
       "     <game_config.Round_play at 0x1113ce860>,\n",
       "     <game_config.Round_play at 0x1113ce908>,\n",
       "     <game_config.Round_play at 0x1113ce9b0>,\n",
       "     <game_config.Round_play at 0x1113cea90>,\n",
       "     <game_config.Round_play at 0x1113ceb38>,\n",
       "     <game_config.Round_play at 0x1113cebe0>,\n",
       "     <game_config.Round_play at 0x1113cec88>,\n",
       "     <game_config.Round_play at 0x1113ced30>,\n",
       "     <game_config.Round_play at 0x1113cee48>,\n",
       "     <game_config.Round_play at 0x1113cef28>,\n",
       "     <game_config.Round_play at 0x1113cefd0>,\n",
       "     <game_config.Round_play at 0x1113db0b8>,\n",
       "     <game_config.Round_play at 0x1113db160>,\n",
       "     <game_config.Round_play at 0x1113db240>,\n",
       "     <game_config.Round_play at 0x1113db2e8>,\n",
       "     <game_config.Round_play at 0x1113db3c8>,\n",
       "     <game_config.Round_play at 0x1113db470>,\n",
       "     <game_config.Round_play at 0x1113db550>,\n",
       "     <game_config.Round_play at 0x1113db630>,\n",
       "     <game_config.Round_play at 0x1113db710>,\n",
       "     <game_config.Round_play at 0x1113db7f0>,\n",
       "     <game_config.Round_play at 0x1113db8d0>,\n",
       "     <game_config.Round_play at 0x1113db978>,\n",
       "     <game_config.Round_play at 0x1113dba58>,\n",
       "     <game_config.Round_play at 0x1113dbb38>,\n",
       "     <game_config.Round_play at 0x1113dbc18>,\n",
       "     <game_config.Round_play at 0x1113dbcc0>,\n",
       "     <game_config.Round_play at 0x1113dbd68>,\n",
       "     <game_config.Round_play at 0x1113dbe10>,\n",
       "     <game_config.Round_play at 0x1113dbeb8>,\n",
       "     <game_config.Round_play at 0x1113dbf60>,\n",
       "     <game_config.Round_play at 0x1113e8048>,\n",
       "     <game_config.Round_play at 0x1113e80f0>,\n",
       "     <game_config.Round_play at 0x1113e8198>,\n",
       "     <game_config.Round_play at 0x1113e8240>,\n",
       "     <game_config.Round_play at 0x1113e8320>,\n",
       "     <game_config.Round_play at 0x1113e8400>,\n",
       "     <game_config.Round_play at 0x1113e84e0>,\n",
       "     <game_config.Round_play at 0x1113e8588>,\n",
       "     <game_config.Round_play at 0x1113e8630>,\n",
       "     <game_config.Round_play at 0x1113e8710>,\n",
       "     <game_config.Round_play at 0x1113e87f0>,\n",
       "     <game_config.Round_play at 0x1113e8898>,\n",
       "     <game_config.Round_play at 0x1113e89b0>,\n",
       "     <game_config.Round_play at 0x1113e8a58>,\n",
       "     <game_config.Round_play at 0x1113e8b00>,\n",
       "     <game_config.Round_play at 0x1113e8be0>,\n",
       "     <game_config.Round_play at 0x1113e8c88>,\n",
       "     <game_config.Round_play at 0x1113e8da0>,\n",
       "     <game_config.Round_play at 0x1113e8e48>,\n",
       "     <game_config.Round_play at 0x1113e8f28>,\n",
       "     <game_config.Round_play at 0x1113f5048>,\n",
       "     <game_config.Round_play at 0x1113f50f0>,\n",
       "     <game_config.Round_play at 0x1113f51d0>,\n",
       "     <game_config.Round_play at 0x1113f52b0>,\n",
       "     <game_config.Round_play at 0x1113f5390>,\n",
       "     <game_config.Round_play at 0x1113f5438>,\n",
       "     <game_config.Round_play at 0x1113f54e0>,\n",
       "     <game_config.Round_play at 0x1113f5588>,\n",
       "     <game_config.Round_play at 0x1113f5630>,\n",
       "     <game_config.Round_play at 0x1113f56d8>,\n",
       "     <game_config.Round_play at 0x1113f5780>,\n",
       "     <game_config.Round_play at 0x1113f5828>,\n",
       "     <game_config.Round_play at 0x1113f58d0>,\n",
       "     <game_config.Round_play at 0x1113f5978>,\n",
       "     <game_config.Round_play at 0x1113f5a20>,\n",
       "     <game_config.Round_play at 0x1113f5b00>,\n",
       "     <game_config.Round_play at 0x1113f5ba8>,\n",
       "     <game_config.Round_play at 0x1113f5c88>,\n",
       "     <game_config.Round_play at 0x1113f5d30>,\n",
       "     <game_config.Round_play at 0x1113f5e10>,\n",
       "     <game_config.Round_play at 0x1113f5eb8>,\n",
       "     <game_config.Round_play at 0x1113f5f98>,\n",
       "     <game_config.Round_play at 0x1114020f0>,\n",
       "     <game_config.Round_play at 0x1114021d0>,\n",
       "     <game_config.Round_play at 0x1114022b0>,\n",
       "     <game_config.Round_play at 0x111402358>,\n",
       "     <game_config.Round_play at 0x111402438>,\n",
       "     <game_config.Round_play at 0x111402518>,\n",
       "     <game_config.Round_play at 0x1114025f8>,\n",
       "     <game_config.Round_play at 0x1114026a0>,\n",
       "     <game_config.Round_play at 0x111402748>,\n",
       "     <game_config.Round_play at 0x1114027f0>,\n",
       "     <game_config.Round_play at 0x111402908>,\n",
       "     <game_config.Round_play at 0x1114029b0>,\n",
       "     <game_config.Round_play at 0x111402a58>,\n",
       "     <game_config.Round_play at 0x111402b70>,\n",
       "     <game_config.Round_play at 0x111402c50>,\n",
       "     <game_config.Round_play at 0x111402cf8>,\n",
       "     <game_config.Round_play at 0x111402dd8>,\n",
       "     <game_config.Round_play at 0x111402e80>,\n",
       "     <game_config.Round_play at 0x111402f60>,\n",
       "     <game_config.Round_play at 0x11140f048>,\n",
       "     <game_config.Round_play at 0x11140f128>,\n",
       "     <game_config.Round_play at 0x11140f240>,\n",
       "     <game_config.Round_play at 0x11140f320>,\n",
       "     <game_config.Round_play at 0x11140f3c8>,\n",
       "     <game_config.Round_play at 0x11140f470>,\n",
       "     <game_config.Round_play at 0x11140f518>,\n",
       "     <game_config.Round_play at 0x11140f5f8>,\n",
       "     <game_config.Round_play at 0x11140f6d8>,\n",
       "     <game_config.Round_play at 0x11140f780>,\n",
       "     <game_config.Round_play at 0x11140f828>,\n",
       "     <game_config.Round_play at 0x11140f8d0>,\n",
       "     <game_config.Round_play at 0x11140f9e8>,\n",
       "     <game_config.Round_play at 0x11140fa90>,\n",
       "     <game_config.Round_play at 0x11140fb38>,\n",
       "     <game_config.Round_play at 0x11140fbe0>,\n",
       "     <game_config.Round_play at 0x11140fcc0>,\n",
       "     <game_config.Round_play at 0x11140fda0>,\n",
       "     <game_config.Round_play at 0x11140fe80>,\n",
       "     <game_config.Round_play at 0x11140ff28>,\n",
       "     ...]}}}}"
      ]
     },
     "execution_count": 7,
     "metadata": {},
     "output_type": "execute_result"
    }
   ],
   "source": [
    "test"
   ]
  },
  {
   "cell_type": "code",
   "execution_count": 9,
   "metadata": {},
   "outputs": [],
   "source": [
    "r = Counter([v.players[0].result for v in log])"
   ]
  },
  {
   "cell_type": "code",
   "execution_count": 10,
   "metadata": {},
   "outputs": [],
   "source": [
    "win = r['win']\n",
    "lose = r['lose']\n",
    "tie = r['tie']"
   ]
  },
  {
   "cell_type": "code",
   "execution_count": 11,
   "metadata": {},
   "outputs": [
    {
     "data": {
      "text/plain": [
       "0.673"
      ]
     },
     "execution_count": 11,
     "metadata": {},
     "output_type": "execute_result"
    }
   ],
   "source": [
    "(win-lose)/(win+lose+tie)"
   ]
  },
  {
   "cell_type": "code",
   "execution_count": 12,
   "metadata": {},
   "outputs": [
    {
     "data": {
      "text/plain": [
       "Counter({'win': 673, 'tie': 327})"
      ]
     },
     "execution_count": 12,
     "metadata": {},
     "output_type": "execute_result"
    }
   ],
   "source": [
    "r"
   ]
  },
  {
   "cell_type": "code",
   "execution_count": 9,
   "metadata": {},
   "outputs": [],
   "source": [
    "def simulate(n_player: int = 1, n_loop: int = 1000, faceup_target: str = None, hand_target: list = None):\n",
    "    bet_amount = 1\n",
    "    bot_signup = []\n",
    "    for i in range(n_player):\n",
    "        bot_signup.append(Bot(bankroll = 1_000_000, name = 'Player {}'.format(i+1)))\n",
    "\n",
    "    config = Config() # Define your configuration game here. Check game_config.py for reference\n",
    "\n",
    "    blackjack = Blackjack(config = config, player = bot_signup, shoe = Shoe(deck_quant = config.n_deck))\n",
    "    card_quant = len(blackjack.shoe.shoe) # Total cards in the shoe\n",
    "\n",
    "    loop = 0\n",
    "    while loop < n_loop:\n",
    "        game = blackjack.run()\n",
    "\n",
    "        dealer_hand = game.dealer\n",
    "        bots = game.players\n",
    "\n",
    "        faceup_value = str(dealer_hand.get_faceup_card().get_score()[0])\n",
    "        bots_value = [sorted([card.get_score()[0] for card in bot.hand], reverse=True) for bot in bots]\n",
    "\n",
    "        if faceup_target:\n",
    "            if faceup_target != faceup_value:\n",
    "                continue\n",
    "                \n",
    "        if hand_target:\n",
    "            if sorted(hand_target, reverse=True) not in bots_value:\n",
    "                continue\n",
    "            else:\n",
    "                indices = [i for i,v in enumerate(bots_value) if v == sorted(hand_target, reverse = True)]\n",
    "        # Processing block\n",
    "        for bot_hand in bots: # Player-scanning Block\n",
    "            hand_process = [bot_hand]\n",
    "            hand_count = 0\n",
    "\n",
    "            while len(hand_process) != 0: # All-hands loop Block\n",
    "                hand_in_play = hand_process[0]\n",
    "                _count = 0\n",
    "\n",
    "                quest = game.question(hand_in_play, _count)\n",
    "                if hand_count != 0:\n",
    "                    quest = 'Hand {} --- {}'.format(hand_count,quest)\n",
    "\n",
    "\t\t\t\t\n",
    "\t\t\t\tprint('Bot Hand: {}'.format(hand_in_play.get_hand()))\n",
    "\t\t\t\tprint('⍰ Quest: {}'.format(quest))\n",
    "\t\t\t\twhile quest != None: # Response Block\n",
    "\t\t\t\t\t# Bot action\n",
    "\t\t\t\t\taction = hand_in_play.player.play(faceup_card = game.dealer.get_faceup_card(), hand = hand_in_play, question = quest)\n",
    "\t\t\t\t\t_count += 1\n",
    "\t\t\t\t\tprint('--> {}'.format(action))\n",
    "\n",
    "\t\t\t\t\tif action == 'x2':\n",
    "\t\t\t\t\t\thand_in_play.x2(blackjack.shoe)\n",
    "\t\t\t\t\t\tprint(hand_in_play.get_hand())\n",
    "\t\t\t\t\telif action == 'hit':\n",
    "\t\t\t\t\t\thand_in_play.hit(blackjack.shoe)\n",
    "\t\t\t\t\t\tprint(hand_in_play.get_hand())\n",
    "\t\t\t\t\telif action == 'stand':\n",
    "\t\t\t\t\t\thand_in_play.stand()\n",
    "\t\t\t\t\telif action == 'split':\n",
    "\t\t\t\t\t\thand_1, hand_2 = hand_in_play.split(blackjack.shoe)\n",
    "\t\t\t\t\t\thand_process += [hand_1, hand_2]\n",
    "\t\t\t\t\t\t# hand_delete = True\n",
    "\t\t\t\t\t\tbreak\n",
    "\n",
    "\t\t\t\t\tquest = game.question(hand_in_play, _count)\n",
    "\t\t\t\t\tif quest != None:\n",
    "\t\t\t\t\t\tprint('Quest: {}'.format(quest))\n",
    "\n",
    "\t\t\t\thand_process.pop(0)\n",
    "\n",
    "\t\t\t\thand_count += 1\n",
    "\n",
    "\t\tgame.dealer_action(blackjack.shoe) \n",
    "\t\tprint('-----------------------------------------------')\n",
    "\t\tprint(hand_print(dealer_hand, player=False))\n",
    "\n",
    "\t\tfor bot_hand in bots: # Player-scanning Score block\n",
    "\t\t\tprint('Bot {} ------ Results: '.format(bot_hand.player.name))\n",
    "\t\t\thands = game.get_hands(player_name = bot_hand.player.name)\n",
    "\t\t\tfor hand in hands:\n",
    "\t\t\t\tprint(hand_print(hand))\n",
    "\t\t\t\tgame.process_result(hand, bet_amount)\n",
    "\n",
    "\t\tblackjack.log(game)\n",
    "\n",
    "\n",
    "\n",
    "        if len(blackjack.shoe.shoe) < int(card_quant*blackjack.config.reset_shoe):\n",
    "            blackjack.shoe.shuffle(reset=True)\n",
    "\n",
    "\n",
    "   "
   ]
  },
  {
   "cell_type": "code",
   "execution_count": null,
   "metadata": {},
   "outputs": [],
   "source": []
  }
 ],
 "metadata": {
  "kernelspec": {
   "display_name": "Python 3",
   "language": "python",
   "name": "python3"
  },
  "language_info": {
   "codemirror_mode": {
    "name": "ipython",
    "version": 3
   },
   "file_extension": ".py",
   "mimetype": "text/x-python",
   "name": "python",
   "nbconvert_exporter": "python",
   "pygments_lexer": "ipython3",
   "version": "3.7.0"
  },
  "toc": {
   "base_numbering": 1,
   "nav_menu": {},
   "number_sections": true,
   "sideBar": true,
   "skip_h1_title": false,
   "title_cell": "Table of Contents",
   "title_sidebar": "Contents",
   "toc_cell": false,
   "toc_position": {},
   "toc_section_display": true,
   "toc_window_display": false
  }
 },
 "nbformat": 4,
 "nbformat_minor": 2
}

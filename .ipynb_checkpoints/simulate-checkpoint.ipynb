{
 "cells": [
  {
   "cell_type": "code",
   "execution_count": 2,
   "metadata": {},
   "outputs": [],
   "source": [
    "from bot import Bot\n",
    "from game_config import Config, Blackjack"
   ]
  },
  {
   "cell_type": "code",
   "execution_count": 18,
   "metadata": {},
   "outputs": [
    {
     "ename": "IndentationError",
     "evalue": "unindent does not match any outer indentation level (<tokenize>, line 3)",
     "output_type": "error",
     "traceback": [
      "\u001b[0;36m  File \u001b[0;32m\"<tokenize>\"\u001b[0;36m, line \u001b[0;32m3\u001b[0m\n\u001b[0;31m    print('a')\u001b[0m\n\u001b[0m    ^\u001b[0m\n\u001b[0;31mIndentationError\u001b[0m\u001b[0;31m:\u001b[0m unindent does not match any outer indentation level\n"
     ]
    }
   ],
   "source": [
    "def simulate(n_player: int = 1, n_loop: int = 1000, faceup_card: str = None):\n",
    "\tbet_amount = 1\n",
    "    bot_signup = []\n",
    "    for i in range(n_player):\n",
    "        bot_signup.append(Bot(bankroll = 1_000_000, name = 'Player {}'.format(i+1)))\n",
    "\n",
    "\tconfig = Config() # Define your configuration game here. Check game_config.py for reference\n",
    "\n",
    "\tblackjack = Blackjack(config = config, player = bot_signup, shoe = Shoe(deck_quant = config.n_deck))\n",
    "\tcard_quant = len(blackjack.shoe.shoe) # Total cards in the shoe\n",
    "\n",
    "    loop = 0\n",
    "\twhile loop < n_loop:\n",
    "\t\tgame = blackjack.run()\n",
    "\n",
    "\t\tdealer_hand = game.dealer\n",
    "\t\tbots = game.players\n",
    "\n",
    "\t\tfaceup_value = dealer_hand.get_faceup_card().card_face\n",
    "\n",
    "        if faceup_card:\n",
    "            break if faceup_card != faceup_value else pass\n",
    "        \n",
    "        print(dealer_hand.get_hand())\n",
    "        \n",
    "# \t\tfor bot_hand in bots: # Player-scanning Block\n",
    "# \t\t\tprint('----------------------------------------------- \\n\\\n",
    "# Bot {} Processing ......................................'.format(bot_hand.player.name))\n",
    "# \t\t\thand_process = [bot_hand]\n",
    "# \t\t\thand_count = 0\n",
    "\n",
    "# \t\t\twhile len(hand_process) != 0: # All-hands loop Block\n",
    "# \t\t\t\thand_in_play = hand_process[0]\n",
    "# \t\t\t\t_count = 0\n",
    "\n",
    "# \t\t\t\tquest = game.question(hand_in_play, _count)\n",
    "# \t\t\t\tif hand_count != 0:\n",
    "# \t\t\t\t\tquest = 'Hand {} --- {}'.format(hand_count,quest)\n",
    "\n",
    "\t\t\t\t\n",
    "# \t\t\t\tprint('Bot Hand: {}'.format(hand_in_play.get_hand()))\n",
    "# \t\t\t\tprint('⍰ Quest: {}'.format(quest))\n",
    "# \t\t\t\twhile quest != None: # Response Block\n",
    "# \t\t\t\t\t# Bot action\n",
    "# \t\t\t\t\taction = hand_in_play.player.play(faceup_card = game.dealer.get_faceup_card(), hand = hand_in_play, question = quest)\n",
    "# \t\t\t\t\t_count += 1\n",
    "# \t\t\t\t\tprint('--> {}'.format(action))\n",
    "\n",
    "# \t\t\t\t\tif action == 'x2':\n",
    "# \t\t\t\t\t\thand_in_play.x2(blackjack.shoe)\n",
    "# \t\t\t\t\t\tprint(hand_in_play.get_hand())\n",
    "# \t\t\t\t\telif action == 'hit':\n",
    "# \t\t\t\t\t\thand_in_play.hit(blackjack.shoe)\n",
    "# \t\t\t\t\t\tprint(hand_in_play.get_hand())\n",
    "# \t\t\t\t\telif action == 'stand':\n",
    "# \t\t\t\t\t\thand_in_play.stand()\n",
    "# \t\t\t\t\telif action == 'split':\n",
    "# \t\t\t\t\t\thand_1, hand_2 = hand_in_play.split(blackjack.shoe)\n",
    "# \t\t\t\t\t\thand_process += [hand_1, hand_2]\n",
    "# \t\t\t\t\t\t# hand_delete = True\n",
    "# \t\t\t\t\t\tbreak\n",
    "\n",
    "# \t\t\t\t\tquest = game.question(hand_in_play, _count)\n",
    "# \t\t\t\t\tif quest != None:\n",
    "# \t\t\t\t\t\tprint('Quest: {}'.format(quest))\n",
    "\n",
    "# \t\t\t\thand_process.pop(0)\n",
    "\n",
    "# \t\t\t\thand_count += 1\n",
    "\n",
    "# \t\tgame.dealer_action(blackjack.shoe) \n",
    "# \t\tprint('-----------------------------------------------')\n",
    "# \t\tprint(hand_print(dealer_hand, player=False))\n",
    "\n",
    "# \t\tfor bot_hand in bots: # Player-scanning Score block\n",
    "# \t\t\tprint('Bot {} ------ Results: '.format(bot_hand.player.name))\n",
    "# \t\t\thands = game.get_hands(player_name = bot_hand.player.name)\n",
    "# \t\t\tfor hand in hands:\n",
    "# \t\t\t\tprint(hand_print(hand))\n",
    "# \t\t\t\tgame.process_result(hand, bet_amount)\n",
    "\n",
    "# \t\tblackjack.log(game)\n",
    "\n",
    "# \t\tif len(blackjack.shoe.shoe) < int(card_quant*blackjack.config.reset_shoe):\n",
    "# \t\t\tblackjack.shoe.shuffle(reset=True)\n",
    "# \t\t\tprint('----------------- Shuffle Time -----------------')\n",
    "\n",
    "# \twith open(\"log.txt\", \"wb\") as fp:   #Pickling\n",
    "# \t\tpickle.dump(blackjack.logs, fp)\n"
   ]
  },
  {
   "cell_type": "code",
   "execution_count": null,
   "metadata": {},
   "outputs": [],
   "source": []
  }
 ],
 "metadata": {
  "kernelspec": {
   "display_name": "Python 3",
   "language": "python",
   "name": "python3"
  },
  "language_info": {
   "codemirror_mode": {
    "name": "ipython",
    "version": 3
   },
   "file_extension": ".py",
   "mimetype": "text/x-python",
   "name": "python",
   "nbconvert_exporter": "python",
   "pygments_lexer": "ipython3",
   "version": "3.7.0"
  }
 },
 "nbformat": 4,
 "nbformat_minor": 2
}

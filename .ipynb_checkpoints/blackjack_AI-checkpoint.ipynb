{
 "cells": [
  {
   "cell_type": "code",
   "execution_count": 3,
   "metadata": {},
   "outputs": [],
   "source": [
    "from main import main\n",
    "\n",
    "import random\n",
    "from copy import deepcopy\n",
    "\n",
    "from shoe import Shoe\n",
    "from game_config import Config\n",
    "from hand import Hand, Dealer\n",
    "from player import Player"
   ]
  },
  {
   "cell_type": "code",
   "execution_count": 4,
   "metadata": {},
   "outputs": [],
   "source": [
    "shoe = Shoe(deck_quant = 8)"
   ]
  },
  {
   "cell_type": "code",
   "execution_count": 7,
   "metadata": {},
   "outputs": [
    {
     "data": {
      "text/plain": [
       "<shoe.Shoe at 0x108a23c18>"
      ]
     },
     "execution_count": 7,
     "metadata": {},
     "output_type": "execute_result"
    }
   ],
   "source": [
    "shoe"
   ]
  },
  {
   "cell_type": "code",
   "execution_count": 3,
   "metadata": {},
   "outputs": [
    {
     "ename": "TypeError",
     "evalue": "'int' object is not callable",
     "output_type": "error",
     "traceback": [
      "\u001b[0;31m---------------------------------------------------------------------------\u001b[0m",
      "\u001b[0;31mTypeError\u001b[0m                                 Traceback (most recent call last)",
      "\u001b[0;32m<ipython-input-3-854204203713>\u001b[0m in \u001b[0;36m<module>\u001b[0;34m\u001b[0m\n\u001b[0;32m----> 1\u001b[0;31m \u001b[0mbj\u001b[0m\u001b[0;34m.\u001b[0m\u001b[0mdeck\u001b[0m\u001b[0;34m(\u001b[0m\u001b[0;34m)\u001b[0m\u001b[0;34m\u001b[0m\u001b[0m\n\u001b[0m",
      "\u001b[0;31mTypeError\u001b[0m: 'int' object is not callable"
     ]
    }
   ],
   "source": [
    "bj.deck()"
   ]
  },
  {
   "cell_type": "code",
   "execution_count": 6,
   "metadata": {},
   "outputs": [],
   "source": [
    "deck = []\n",
    "card_num = np.arange(1,14)\n",
    "card_type = ['B','T','R','C']\n",
    "for v in card_num:\n",
    "    for _v in card_type:\n",
    "        deck.append(str(v) + _v)"
   ]
  },
  {
   "cell_type": "code",
   "execution_count": 7,
   "metadata": {},
   "outputs": [
    {
     "data": {
      "text/plain": [
       "['1B',\n",
       " '1T',\n",
       " '1R',\n",
       " '1C',\n",
       " '2B',\n",
       " '2T',\n",
       " '2R',\n",
       " '2C',\n",
       " '3B',\n",
       " '3T',\n",
       " '3R',\n",
       " '3C',\n",
       " '4B',\n",
       " '4T',\n",
       " '4R',\n",
       " '4C',\n",
       " '5B',\n",
       " '5T',\n",
       " '5R',\n",
       " '5C',\n",
       " '6B',\n",
       " '6T',\n",
       " '6R',\n",
       " '6C',\n",
       " '7B',\n",
       " '7T',\n",
       " '7R',\n",
       " '7C',\n",
       " '8B',\n",
       " '8T',\n",
       " '8R',\n",
       " '8C',\n",
       " '9B',\n",
       " '9T',\n",
       " '9R',\n",
       " '9C',\n",
       " '10B',\n",
       " '10T',\n",
       " '10R',\n",
       " '10C',\n",
       " '11B',\n",
       " '11T',\n",
       " '11R',\n",
       " '11C',\n",
       " '12B',\n",
       " '12T',\n",
       " '12R',\n",
       " '12C',\n",
       " '13B',\n",
       " '13T',\n",
       " '13R',\n",
       " '13C']"
      ]
     },
     "execution_count": 7,
     "metadata": {},
     "output_type": "execute_result"
    }
   ],
   "source": []
  },
  {
   "cell_type": "code",
   "execution_count": null,
   "metadata": {},
   "outputs": [],
   "source": []
  }
 ],
 "metadata": {
  "kernelspec": {
   "display_name": "Python 3",
   "language": "python",
   "name": "python3"
  },
  "language_info": {
   "codemirror_mode": {
    "name": "ipython",
    "version": 3
   },
   "file_extension": ".py",
   "mimetype": "text/x-python",
   "name": "python",
   "nbconvert_exporter": "python",
   "pygments_lexer": "ipython3",
   "version": "3.7.0"
  },
  "toc": {
   "base_numbering": 1,
   "nav_menu": {},
   "number_sections": true,
   "sideBar": true,
   "skip_h1_title": false,
   "title_cell": "Table of Contents",
   "title_sidebar": "Contents",
   "toc_cell": false,
   "toc_position": {},
   "toc_section_display": true,
   "toc_window_display": false
  }
 },
 "nbformat": 4,
 "nbformat_minor": 2
}
